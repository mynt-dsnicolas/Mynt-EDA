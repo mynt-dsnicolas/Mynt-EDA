{
 "cells": [
  {
   "cell_type": "markdown",
   "id": "fifty-truck",
   "metadata": {},
   "source": [
    "# Workbook 01\n",
    "\n",
    "---\n",
    "The following problem set will focus on the lessons on Python and basic string manipulation. Answer the following guide questions by writing functions or code in cells that accomplish the requirements.\n",
    "\n",
    "1. Write a function to check whether a string is a palindrome. (A palindrome is a string that reads the same forwards and backwards) **1 pt.**\n",
    "\n",
    "2. Write a function that checks whether a number is prime or not **1 pt.**\n",
    "\n",
    "3. Load `data/allstar.txt` and create a dictionary where the keys are the verses or chorus numbers, and the values are the chords for that part of the song. **4 pts.**\n",
    "`{ \"verse1\": \"Am, C, D, G, F, G, G, Bm\", \"chorus1\": \"C, Am, G, D, C, Am, G, D, C\"..}`\n",
    "\n",
    "4. Build a dictionary from `data/allstar.txt` where the keys are the unique words, and the values are the number of times the word appeared in the song. **4 pts.**\n",
    "\n",
    "5. Load `Rick Astley - Never Gonna Give You Up Lyrics _ AZLyrics.com.html` and find out the ff (show the code): **10 pts.**\n",
    "       - How many unique words are there?\n",
    "       - List what will Rick Astley never do?\n",
    "       - Write a function that lists all the unique words and counts the num of occurences. Output the result as a dictionary similar to **Item 4.**\n",
    "       - Use the dictionary from above to create a word count histogram.\n",
    "       \n",
    "6. Create a function that takes in 3 parameters (integer n, integer a, integer b), and generates an nxn numpy matrix with random values from the range a to b inclusive. **2 pts.**\n",
    "       \n",
    "7. Create a 5x5 identity matrix **(1pt)**\n",
    "\n",
    "8. Create a function that lists the first n prime numbers **(2pts)**\n"
   ]
  },
  {
   "cell_type": "markdown",
   "id": "collective-storage",
   "metadata": {},
   "source": [
    "### Number 1"
   ]
  },
  {
   "cell_type": "code",
   "execution_count": 2,
   "id": "requested-chart",
   "metadata": {},
   "outputs": [
    {
     "name": "stdout",
     "output_type": "stream",
     "text": [
      "The word anna is a palindrome!\n",
      "The word hello is not a palindrome!\n"
     ]
    }
   ],
   "source": [
    "def check_pali(word):\n",
    "    if word[::-1] == word[:]:\n",
    "        print(f'The word {word} is a palindrome!')\n",
    "    else:\n",
    "        print(f'The word {word} is not a palindrome!')\n",
    "\n",
    "check_pali('anna')\n",
    "check_pali('hello')"
   ]
  },
  {
   "cell_type": "markdown",
   "id": "united-leisure",
   "metadata": {},
   "source": [
    "### Number 2"
   ]
  },
  {
   "cell_type": "code",
   "execution_count": 49,
   "id": "empty-generation",
   "metadata": {},
   "outputs": [
    {
     "name": "stdout",
     "output_type": "stream",
     "text": [
      "4 is not a prime number.\n",
      "9 is not a prime number.\n",
      "5 is a prime number.\n",
      "11 is a prime number.\n",
      "45 is not a prime number.\n"
     ]
    }
   ],
   "source": [
    "def is_prime(n):\n",
    "    if n > 1:\n",
    "        f = 0\n",
    "        for i in range(2,n):\n",
    "            if (n % i) == 0:\n",
    "                f = 1\n",
    "                break\n",
    "    if f == 0:\n",
    "        print(f'{n} is a prime number.')\n",
    "    elif f == 1:\n",
    "        print(f'{n} is not a prime number.')\n",
    "\n",
    "is_prime(4)\n",
    "is_prime(9)\n",
    "is_prime(5)\n",
    "is_prime(11)\n",
    "is_prime(45)"
   ]
  },
  {
   "cell_type": "markdown",
   "id": "based-gates",
   "metadata": {},
   "source": [
    "### Number 3"
   ]
  },
  {
   "cell_type": "code",
   "execution_count": 21,
   "id": "innovative-shore",
   "metadata": {},
   "outputs": [
    {
     "data": {
      "text/plain": [
       "['[Verse 1]',\n",
       " '    G           D           Am             C',\n",
       " 'Somebody once told me the world is gonna roll me',\n",
       " '    G                  D           Am   C',\n",
       " \"I ain't the sharpest tool in the shed\",\n",
       " '         G              D             Am',\n",
       " 'She was looking kinda dumb with her finger and her',\n",
       " 'C             G           D           Am       C',\n",
       " 'Thumb in the shape of an \"L\" on her forehead',\n",
       " ' ',\n",
       " '  G                                 D',\n",
       " \"Well the years start coming and they don't stop coming\",\n",
       " 'Am                       C',\n",
       " 'Back to the rules and I hit the ground running',\n",
       " '  G                        D',\n",
       " \"Didn't make sense not to live for fun\",\n",
       " '    Am                      C',\n",
       " 'Your brain gets smart but your head gets dumb',\n",
       " ' ',\n",
       " '  G             D',\n",
       " 'So much to do so much to see',\n",
       " '   Am                            C',\n",
       " \"So what's wrong with taking the back streets\",\n",
       " '   G                       D',\n",
       " \"You'll never know if you don't go\",\n",
       " '   Am                      C',\n",
       " \"You'll never shine if you don't glow\",\n",
       " ' ',\n",
       " '[Chorus]',\n",
       " 'G                  C           C#m            C',\n",
       " \"Hey now you're an All Star get your game on, go play\",\n",
       " 'G                  C           C#m            C',\n",
       " \"Hey now you're a Rock Star get the show on get paid\",\n",
       " 'G             C           C#m',\n",
       " 'And all that glitters is gold',\n",
       " 'C               G     F                C',\n",
       " 'Only shooting stars break the mold',\n",
       " ' ',\n",
       " '[Verse 1]',\n",
       " '   G                        D',\n",
       " \"It's a cool place and they say it gets colder\",\n",
       " '   Am                 C',\n",
       " \"You're bundled up now but wait 'til you get older\",\n",
       " '    G                    D',\n",
       " 'But the media men beg to differ',\n",
       " '                 Am                  C',\n",
       " 'Judging by the hole in the satellite picture',\n",
       " ' ',\n",
       " '             G                     D',\n",
       " 'The ice we skate is getting pretty thin',\n",
       " '                    Am                        C',\n",
       " 'The waters getting warm so you might as well swim',\n",
       " '               G               D',\n",
       " \"My world's on fire how about yours\",\n",
       " '           Am                             C',\n",
       " \"That's the way I like it and I never get bored\",\n",
       " ' ',\n",
       " '[Chorus]',\n",
       " 'G                  C           C#m            C',\n",
       " \"Hey now you're an All Star get your game on, go play\",\n",
       " 'G                  C           C#m            C',\n",
       " \"Hey now you're a Rock Star get the show on get paid\",\n",
       " 'G             C           C#m',\n",
       " 'And all that glitters is gold',\n",
       " 'C               G     F                C',\n",
       " 'Only shooting stars break the mold',\n",
       " 'G                  C           C#m            C',\n",
       " \"Hey now you're an All Star get your game on, go play\",\n",
       " 'G                  C           C#m            C',\n",
       " \"Hey now you're a Rock Star get the show on get paid\",\n",
       " 'G             C           C#m',\n",
       " 'And all that glitters is gold',\n",
       " 'C               G     F                C',\n",
       " 'Only shooting stars break the mold',\n",
       " ' ',\n",
       " '[Verse 3]',\n",
       " 'G               D                Am                C',\n",
       " 'Somebody once asked, could you spare some change for gas',\n",
       " 'G                      D              Am    C',\n",
       " 'I need to get myself away from this place',\n",
       " 'G                  D                Am                C',\n",
       " 'I said yep what a concept I could use a little fuel myself',\n",
       " '        G           D           Am       C',\n",
       " 'And we could all use a little change',\n",
       " ' ',\n",
       " '  G                                 D',\n",
       " \"Well the years start coming and they don't stop coming\",\n",
       " 'Am                       C',\n",
       " 'Back to the rules and I hit the ground running',\n",
       " '  G                        D',\n",
       " \"Didn't make sense not to live for fun\",\n",
       " '    Am                      C',\n",
       " 'Your brain gets smart but your head gets dumb',\n",
       " ' ',\n",
       " '   G             D',\n",
       " 'So much to do so much to see',\n",
       " '   Am                            C',\n",
       " \"So what's wrong with taking the back streets\",\n",
       " '   G                       D',\n",
       " \"You'll never know if you don't go\",\n",
       " '   Am                      C',\n",
       " \"You'll never shine if you don't glow\",\n",
       " ' ',\n",
       " '[Chorus]',\n",
       " 'G                  C           C#m            C',\n",
       " \"Hey now you're an All Star get your game on, go play\",\n",
       " 'G                  C           C#m            C',\n",
       " \"Hey now you're a Rock Star get the show on get paid\",\n",
       " 'G             C           C#m',\n",
       " 'And all that glitters is gold',\n",
       " 'C               G     F                C',\n",
       " 'Only shooting stars break the mold']"
      ]
     },
     "execution_count": 21,
     "metadata": {},
     "output_type": "execute_result"
    }
   ],
   "source": [
    "path = 'D:/Mynt EDA/apper_eda-main/allstar.txt'\n",
    "with open(path, 'r') as f:\n",
    "    lines = f.read().splitlines()\n",
    "lines"
   ]
  },
  {
   "cell_type": "code",
   "execution_count": 26,
   "id": "incorporated-allen",
   "metadata": {},
   "outputs": [
    {
     "data": {
      "text/plain": [
       "['Verse 1',\n",
       " 'G D Am C',\n",
       " 'G D Am C',\n",
       " 'G D Am',\n",
       " 'C G D Am C',\n",
       " 'G D',\n",
       " 'Am C',\n",
       " 'G D',\n",
       " 'Am C',\n",
       " 'G D',\n",
       " 'Am C',\n",
       " 'G D',\n",
       " 'Am C',\n",
       " 'Chorus',\n",
       " 'G C C#m C',\n",
       " 'G C C#m C',\n",
       " 'G C C#m',\n",
       " 'C G F C',\n",
       " 'Verse 1',\n",
       " 'G D',\n",
       " 'Am C',\n",
       " 'G D',\n",
       " 'Am C',\n",
       " 'G D',\n",
       " 'Am C',\n",
       " 'G D',\n",
       " 'Am C',\n",
       " 'Chorus',\n",
       " 'G C C#m C',\n",
       " 'G C C#m C',\n",
       " 'G C C#m',\n",
       " 'C G F C',\n",
       " 'G C C#m C',\n",
       " 'G C C#m C',\n",
       " 'G C C#m',\n",
       " 'C G F C',\n",
       " 'Verse 3',\n",
       " 'G D Am C',\n",
       " 'G D Am C',\n",
       " 'G D Am C',\n",
       " 'G D Am C',\n",
       " 'G D',\n",
       " 'Am C',\n",
       " 'G D',\n",
       " 'Am C',\n",
       " 'G D',\n",
       " 'Am C',\n",
       " 'G D',\n",
       " 'Am C',\n",
       " 'Chorus',\n",
       " 'G C C#m C',\n",
       " 'G C C#m C',\n",
       " 'G C C#m',\n",
       " 'C G F C']"
      ]
     },
     "execution_count": 26,
     "metadata": {},
     "output_type": "execute_result"
    }
   ],
   "source": [
    "import re\n",
    "chord_list = []\n",
    "\n",
    "for item in lines:\n",
    "    if item.startswith('['):\n",
    "        chord_list.append(item.strip('[]'))\n",
    "    elif '   ' in item:\n",
    "        item = re.sub(\"\\s+\", \" \", item.strip())\n",
    "        chord_list.append(item)\n",
    "chord_list"
   ]
  },
  {
   "cell_type": "code",
   "execution_count": 35,
   "id": "detected-travel",
   "metadata": {},
   "outputs": [
    {
     "name": "stdout",
     "output_type": "stream",
     "text": [
      "{'Verse1': '', 'Chorus1': '', 'Verse2': '', 'Chorus2': '', 'Verse3': '', 'Chorus3': ''}\n",
      "['Verse1', 'G D Am C', 'G D Am C', 'G D Am', 'C G D Am C', 'G D', 'Am C', 'G D', 'Am C', 'G D', 'Am C', 'G D', 'Am C', 'Chorus1', 'G C C#m C', 'G C C#m C', 'G C C#m', 'C G F C', 'Verse2', 'G D', 'Am C', 'G D', 'Am C', 'G D', 'Am C', 'G D', 'Am C', 'Chorus2', 'G C C#m C', 'G C C#m C', 'G C C#m', 'C G F C', 'G C C#m C', 'G C C#m C', 'G C C#m', 'C G F C', 'Verse3', 'G D Am C', 'G D Am C', 'G D Am C', 'G D Am C', 'G D', 'Am C', 'G D', 'Am C', 'G D', 'Am C', 'G D', 'Am C', 'Chorus3', 'G C C#m C', 'G C C#m C', 'G C C#m', 'C G F C']\n"
     ]
    }
   ],
   "source": [
    "chord_dict = {}\n",
    "verses = []\n",
    "chorus = []\n",
    "\n",
    "def check_chord(chord_line, dict_key):\n",
    "    for chord in chord_line.split():\n",
    "        if chord not in chord_dict[dict_key]:\n",
    "            chord_dict[dict_key] = chord_dict[dict_key] + f' {chord}'\n",
    "\n",
    "for line in chord_list:\n",
    "    first_word = line.split()[0]\n",
    "    if line.startswith('Verse'):\n",
    "        count = 1 \n",
    "        key = f'{first_word}{count}'\n",
    "        while key in chord_dict.keys():\n",
    "            count += 1\n",
    "            key = f'{first_word}{count}'\n",
    "        chord_dict[key] = ''\n",
    "        chord_list[chord_list.index(line)] = key\n",
    "    if line.startswith('Chorus'):\n",
    "        count = 1 \n",
    "        key = f'{first_word}{count}'\n",
    "        while key in chord_dict.keys():\n",
    "            count += 1\n",
    "            key = f'{first_word}{count}'\n",
    "        chord_dict[key] = ''\n",
    "        chord_list[chord_list.index(line)] = key\n",
    "\n",
    "print(chord_dict)\n",
    "print(chord_list)"
   ]
  },
  {
   "cell_type": "code",
   "execution_count": 39,
   "id": "silver-professor",
   "metadata": {},
   "outputs": [
    {
     "name": "stdout",
     "output_type": "stream",
     "text": [
      "Chords found per verse/chorus: \n",
      "{'Verse1': ' G D Am C', 'Chorus1': ' G C C#m F', 'Verse2': ' G D Am C', 'Chorus2': ' G C C#m F', 'Verse3': ' G D Am C', 'Chorus3': ' G C C#m F'}\n"
     ]
    }
   ],
   "source": [
    "for line in chord_list:\n",
    "    if line.startswith('Verse') | line.startswith('Chorus'):\n",
    "        key = line\n",
    "    else:\n",
    "        check_chord(line,key)\n",
    "\n",
    "print(f'Chords found per verse/chorus: \\n{chord_dict}')"
   ]
  },
  {
   "cell_type": "markdown",
   "id": "partial-virginia",
   "metadata": {},
   "source": [
    "### Number 4"
   ]
  },
  {
   "cell_type": "code",
   "execution_count": 63,
   "id": "former-republican",
   "metadata": {},
   "outputs": [
    {
     "name": "stdout",
     "output_type": "stream",
     "text": [
      "{'verse': 3, '1': 2, 'g': 36, 'd': 20, 'am': 20, 'c': 48, 'somebody': 2, 'once': 2, 'told': 1, 'me': 2, 'the': 26, 'world': 1, 'is': 6, 'gonna': 1, 'roll': 1, 'i': 8, \"ain't\": 1, 'sharpest': 1, 'tool': 1, 'in': 3, 'shed': 1, 'she': 1, 'was': 1, 'looking': 1, 'kinda': 1, 'dumb': 3, 'with': 3, 'her': 3, 'finger': 1, 'and': 12, 'thumb': 1, 'shape': 1, 'of': 1, 'an': 5, '\"l\"': 1, 'on': 10, 'forehead': 1, 'well': 3, 'years': 2, 'start': 2, 'coming': 4, 'they': 3, \"don't\": 6, 'stop': 2, 'back': 4, 'to': 10, 'rules': 2, 'hit': 2, 'ground': 2, 'running': 2, \"didn't\": 2, 'make': 2, 'sense': 2, 'not': 2, 'live': 2, 'for': 3, 'fun': 2, 'your': 8, 'brain': 2, 'gets': 5, 'smart': 2, 'but': 4, 'head': 2, 'so': 7, 'much': 4, 'do': 2, 'see': 2, \"what's\": 2, 'wrong': 2, 'taking': 2, 'streets': 2, \"you'll\": 4, 'never': 5, 'know': 2, 'if': 4, 'you': 7, 'go': 6, 'shine': 2, 'glow': 2, 'chorus': 3, 'c#m': 12, 'hey': 8, 'now': 9, \"you're\": 9, 'all': 9, 'star': 8, 'get': 15, 'game': 4, 'play': 4, 'a': 8, 'rock': 4, 'show': 4, 'paid': 4, 'that': 4, 'glitters': 4, 'gold': 4, 'f': 4, 'only': 4, 'shooting': 4, 'stars': 4, 'break': 4, 'mold': 4, \"it's\": 1, 'cool': 1, 'place': 2, 'say': 1, 'it': 2, 'colder': 1, 'bundled': 1, 'up': 1, 'wait': 1, \"'til\": 1, 'older': 1, 'media': 1, 'men': 1, 'beg': 1, 'differ': 1, 'judging': 1, 'by': 1, 'hole': 1, 'satellite': 1, 'picture': 1, 'ice': 1, 'we': 2, 'skate': 1, 'getting': 2, 'pretty': 1, 'thin': 1, 'waters': 1, 'warm': 1, 'might': 1, 'as': 1, 'swim': 1, 'my': 1, \"world's\": 1, 'fire': 1, 'how': 1, 'about': 1, 'yours': 1, \"that's\": 1, 'way': 1, 'like': 1, 'bored': 1, '3': 1, 'asked': 1, 'could': 3, 'spare': 1, 'some': 1, 'change': 2, 'gas': 1, 'need': 1, 'myself': 2, 'away': 1, 'from': 1, 'this': 1, 'said': 1, 'yep': 1, 'what': 1, 'concept': 1, 'use': 2, 'little': 2, 'fuel': 1}\n"
     ]
    }
   ],
   "source": [
    "text_file = open(path, 'r')\n",
    "text = text_file.read()\n",
    "\n",
    "#cleaning\n",
    "text = text.lower()\n",
    "words = text.split()\n",
    "words = [word.strip('.,!;()[]') for word in words]\n",
    "\n",
    "#finding unique\n",
    "unique = {}\n",
    "\n",
    "for word in words:\n",
    "    if word not in unique.keys():\n",
    "        unique[word] = 1\n",
    "    else:\n",
    "        count = unique[word]\n",
    "        unique[word] = count + 1\n",
    "\n",
    "#print\n",
    "print(unique)"
   ]
  },
  {
   "cell_type": "markdown",
   "id": "respected-baseline",
   "metadata": {},
   "source": [
    "### Number 5"
   ]
  },
  {
   "cell_type": "code",
   "execution_count": 45,
   "id": "fixed-explorer",
   "metadata": {},
   "outputs": [
    {
     "name": "stdout",
     "output_type": "stream",
     "text": [
      "Collecting package metadata (repodata.json): ...working... done\n",
      "Solving environment: ...working... done\n",
      "\n",
      "# All requested packages already installed.\n",
      "\n"
     ]
    }
   ],
   "source": [
    "!conda install -c anaconda lxml"
   ]
  },
  {
   "cell_type": "code",
   "execution_count": null,
   "id": "close-console",
   "metadata": {},
   "outputs": [],
   "source": [
    "'''\n",
    "- How many unique words are there?\n",
    "- List what will Rick Astley never do?\n",
    "- Write a function that lists all the unique words and counts the num of occurences. Output the result as a dictionary similar to **Item 4.**\n",
    "- Use the dictionary from above to create a word count histogram.\n",
    "'''"
   ]
  },
  {
   "cell_type": "code",
   "execution_count": 1,
   "id": "comic-backup",
   "metadata": {},
   "outputs": [
    {
     "data": {
      "text/plain": [
       "['were no strangers to love',\n",
       " 'you know the rules and so do i',\n",
       " 'a full commitments what im thinking of',\n",
       " 'you wouldnt get this from any other guy',\n",
       " 'i just wanna tell you how im feeling',\n",
       " 'gotta make you understand',\n",
       " 'never gonna give you up',\n",
       " 'never gonna let you down',\n",
       " 'never gonna run around and desert you',\n",
       " 'never gonna make you cry',\n",
       " 'never gonna say goodbye',\n",
       " 'never gonna tell a lie and hurt you',\n",
       " 'weve known each other for so long',\n",
       " 'your hearts been aching but',\n",
       " 'youre too shy to say it',\n",
       " 'inside we both know whats been going on',\n",
       " 'we know the game and were gonna play it',\n",
       " 'and if you ask me how im feeling',\n",
       " 'dont tell me youre too blind to see',\n",
       " 'never gonna give you up',\n",
       " 'never gonna let you down',\n",
       " 'never gonna run around and desert you',\n",
       " 'never gonna make you cry',\n",
       " 'never gonna say goodbye',\n",
       " 'never gonna tell a lie and hurt you',\n",
       " 'never gonna give you up',\n",
       " 'never gonna let you down',\n",
       " 'never gonna run around and desert you',\n",
       " 'never gonna make you cry',\n",
       " 'never gonna say goodbye',\n",
       " 'never gonna tell a lie and hurt you',\n",
       " 'ooh give you up',\n",
       " 'ooh give you up',\n",
       " 'never gonna give never gonna give',\n",
       " 'give you up',\n",
       " 'never gonna give never gonna give',\n",
       " 'give you up',\n",
       " 'weve known each other for so long',\n",
       " 'your hearts been aching but',\n",
       " 'youre too shy to say it',\n",
       " 'inside we both know whats been going on',\n",
       " 'we know the game and were gonna play it',\n",
       " 'i just wanna tell you how im feeling',\n",
       " 'gotta make you understand',\n",
       " 'never gonna give you up',\n",
       " 'never gonna let you down',\n",
       " 'never gonna run around and desert you',\n",
       " 'never gonna make you cry',\n",
       " 'never gonna say goodbye',\n",
       " 'never gonna tell a lie and hurt you',\n",
       " 'never gonna give you up',\n",
       " 'never gonna let you down',\n",
       " 'never gonna run around and desert you',\n",
       " 'never gonna make you cry',\n",
       " 'never gonna say goodbye',\n",
       " 'never gonna tell a lie and hurt you',\n",
       " 'never gonna give you up',\n",
       " 'never gonna let you down',\n",
       " 'never gonna run around and desert you',\n",
       " 'never gonna make you cry',\n",
       " 'never gonna say goodbye',\n",
       " 'never gonna tell a lie and hurt you']"
      ]
     },
     "execution_count": 1,
     "metadata": {},
     "output_type": "execute_result"
    }
   ],
   "source": [
    "from bs4 import BeautifulSoup\n",
    "import string\n",
    "\n",
    "with open('Rick Astley - Never Gonna Give You Up Lyrics _ AZLyrics.com.html', 'r') as f:\n",
    "    contents = f.read()\n",
    "    soup = BeautifulSoup(contents, 'html.parser')\n",
    "data = soup.find_all('div')[19].get_text()\n",
    "cleaned = data.translate(str.maketrans('','', string.punctuation)).lower()\n",
    "cleaned = [line for line in cleaned.split('\\n') if line!='']\n",
    "cleaned\n"
   ]
  },
  {
   "cell_type": "code",
   "execution_count": 4,
   "id": "blessed-authorization",
   "metadata": {},
   "outputs": [
    {
     "data": {
      "text/plain": [
       "'were no strangers to love you know the rules and so do i a full commitments what im thinking of you wouldnt get this from any other guy i just wanna tell you how im feeling gotta make you understand never gonna give you up never gonna let you down never gonna run around and desert you never gonna make you cry never gonna say goodbye never gonna tell a lie and hurt you weve known each other for so long your hearts been aching but youre too shy to say it inside we both know whats been going on we know the game and were gonna play it and if you ask me how im feeling dont tell me youre too blind to see never gonna give you up never gonna let you down never gonna run around and desert you never gonna make you cry never gonna say goodbye never gonna tell a lie and hurt you never gonna give you up never gonna let you down never gonna run around and desert you never gonna make you cry never gonna say goodbye never gonna tell a lie and hurt you ooh give you up ooh give you up never gonna give never gonna give give you up never gonna give never gonna give give you up weve known each other for so long your hearts been aching but youre too shy to say it inside we both know whats been going on we know the game and were gonna play it i just wanna tell you how im feeling gotta make you understand never gonna give you up never gonna let you down never gonna run around and desert you never gonna make you cry never gonna say goodbye never gonna tell a lie and hurt you never gonna give you up never gonna let you down never gonna run around and desert you never gonna make you cry never gonna say goodbye never gonna tell a lie and hurt you never gonna give you up never gonna let you down never gonna run around and desert you never gonna make you cry never gonna say goodbye never gonna tell a lie and hurt you'"
      ]
     },
     "execution_count": 4,
     "metadata": {},
     "output_type": "execute_result"
    }
   ],
   "source": [
    "text = ' '.join(cleaned)\n",
    "text"
   ]
  },
  {
   "cell_type": "code",
   "execution_count": 86,
   "id": "norwegian-information",
   "metadata": {},
   "outputs": [
    {
     "name": "stdout",
     "output_type": "stream",
     "text": [
      "There are 78 unique words in Never Gonna Give You Up\n"
     ]
    }
   ],
   "source": [
    "words = text.split()\n",
    "unique = set(words)\n",
    "print(f'There are {len(unique)} unique words in Never Gonna Give You Up')"
   ]
  },
  {
   "cell_type": "code",
   "execution_count": 89,
   "id": "incomplete-queen",
   "metadata": {},
   "outputs": [
    {
     "name": "stdout",
     "output_type": "stream",
     "text": [
      "Things Rick Astley won't do: \n",
      " {'never gonna let you down', 'never gonna run around and desert you', 'never gonna give you up', 'never gonna make you cry', 'never gonna tell a lie and hurt you', 'never gonna give never gonna give', 'never gonna say goodbye'}\n"
     ]
    }
   ],
   "source": [
    "never_list = []\n",
    "\n",
    "for line in cleaned:\n",
    "    if line.startswith('never'):\n",
    "        never_list.append(line)\n",
    "never_list\n",
    "\n",
    "print(f'Things Rick Astley won\\'t do: \\n {set(never_list)}')"
   ]
  },
  {
   "cell_type": "code",
   "execution_count": 7,
   "id": "integral-liberty",
   "metadata": {},
   "outputs": [
    {
     "name": "stdout",
     "output_type": "stream",
     "text": [
      "Unique Words in Rick Astley's \"Never Gonna Give You Up\": \n",
      " {'were': 3, 'no': 1, 'strangers': 1, 'to': 4, 'love': 1, 'you': 41, 'know': 5, 'the': 3, 'rules': 1, 'and': 16, 'so': 3, 'do': 1, 'i': 3, 'a': 7, 'full': 1, 'commitments': 1, 'what': 1, 'im': 4, 'thinking': 1, 'of': 1, 'wouldnt': 1, 'get': 1, 'this': 1, 'from': 1, 'any': 1, 'other': 3, 'guy': 1, 'just': 2, 'wanna': 2, 'tell': 9, 'how': 3, 'feeling': 3, 'gotta': 2, 'make': 8, 'understand': 2, 'never': 40, 'gonna': 42, 'give': 14, 'up': 10, 'let': 6, 'down': 6, 'run': 6, 'around': 6, 'desert': 6, 'cry': 6, 'say': 8, 'goodbye': 6, 'lie': 6, 'hurt': 6, 'weve': 2, 'known': 2, 'each': 2, 'for': 2, 'long': 2, 'your': 2, 'hearts': 2, 'been': 4, 'aching': 2, 'but': 2, 'youre': 3, 'too': 3, 'shy': 2, 'it': 4, 'inside': 2, 'we': 4, 'both': 2, 'whats': 2, 'going': 2, 'on': 2, 'game': 2, 'play': 2, 'if': 1, 'ask': 1, 'me': 2, 'dont': 1, 'blind': 1, 'see': 1, 'ooh': 2}\n"
     ]
    }
   ],
   "source": [
    "unique_roll = {}\n",
    "\n",
    "for word in text.split():\n",
    "    if word not in unique_roll.keys():\n",
    "        unique_roll[word] = 1\n",
    "    else:\n",
    "        count = unique_roll[word]\n",
    "        unique_roll[word] = count + 1\n",
    "\n",
    "print(f'Unique Words in Rick Astley\\'s \"Never Gonna Give You Up\": \\n {unique_roll}')"
   ]
  },
  {
   "cell_type": "code",
   "execution_count": 9,
   "id": "generous-rwanda",
   "metadata": {},
   "outputs": [
    {
     "name": "stdout",
     "output_type": "stream",
     "text": [
      "{'gonna': 42, 'you': 41, 'never': 40, 'and': 16, 'give': 14, 'up': 10, 'tell': 9, 'make': 8, 'say': 8, 'a': 7, 'let': 6, 'down': 6, 'run': 6, 'around': 6, 'desert': 6, 'cry': 6, 'goodbye': 6, 'lie': 6, 'hurt': 6, 'know': 5, 'to': 4, 'im': 4, 'been': 4, 'it': 4, 'we': 4, 'were': 3, 'the': 3, 'so': 3, 'i': 3, 'other': 3, 'how': 3, 'feeling': 3, 'youre': 3, 'too': 3, 'just': 2, 'wanna': 2, 'gotta': 2, 'understand': 2, 'weve': 2, 'known': 2, 'each': 2, 'for': 2, 'long': 2, 'your': 2, 'hearts': 2, 'aching': 2, 'but': 2, 'shy': 2, 'inside': 2, 'both': 2, 'whats': 2, 'going': 2, 'on': 2, 'game': 2, 'play': 2, 'me': 2, 'ooh': 2, 'no': 1, 'strangers': 1, 'love': 1, 'rules': 1, 'do': 1, 'full': 1, 'commitments': 1, 'what': 1, 'thinking': 1, 'of': 1, 'wouldnt': 1, 'get': 1, 'this': 1, 'from': 1, 'any': 1, 'guy': 1, 'if': 1, 'ask': 1, 'dont': 1, 'blind': 1, 'see': 1}\n"
     ]
    }
   ],
   "source": [
    "sorted_unique = {k: v for k, v in sorted(unique_roll.items(), key=lambda item: item[1], reverse = True)}\n",
    "print(sorted_unique)"
   ]
  },
  {
   "cell_type": "code",
   "execution_count": 20,
   "id": "breeding-jewelry",
   "metadata": {},
   "outputs": [
    {
     "data": {
      "image/png": "[encoded data removed]",
      "text/plain": [
       "<Figure size 1008x576 with 1 Axes>"
      ]
     },
     "metadata": {
      "needs_background": "light"
     },
     "output_type": "display_data"
    }
   ],
   "source": [
    "%matplotlib inline\n",
    "import matplotlib.pyplot as plt\n",
    "\n",
    "plt.figure(figsize=(14,8))\n",
    "plt.bar(list(sorted_unique.keys()), sorted_unique.values(), color='r')\n",
    "plt.title('Unique Words from Never Gonna Give You Up', size=24)\n",
    "plt.xticks(rotation='vertical', size = 13)\n",
    "plt.yticks(size = 13)\n",
    "plt.xlabel('Word', size=18)\n",
    "plt.ylabel('Count', size=18)\n",
    "plt.show()"
   ]
  },
  {
   "cell_type": "markdown",
   "id": "reflected-literacy",
   "metadata": {},
   "source": [
    "### Number 6"
   ]
  },
  {
   "cell_type": "code",
   "execution_count": 37,
   "id": "round-samuel",
   "metadata": {},
   "outputs": [
    {
     "name": "stdout",
     "output_type": "stream",
     "text": [
      "[[2 4 0 5]\n",
      " [4 3 0 2]\n",
      " [1 4 3 1]\n",
      " [0 0 5 5]]\n"
     ]
    }
   ],
   "source": [
    "# Create a function that takes in 3 parameters (integer n, integer a, integer b), \n",
    "# and generates an nxn numpy matrix with random values from the range a to b inclusive. 2 pts.\n",
    "import numpy as np\n",
    "def gen_mat(n, a, b):\n",
    "    random_matrix = np.random.randint(a,(b+1),(n,n))\n",
    "    print(random_matrix)\n",
    "\n",
    "gen_mat(4,0,5)\n"
   ]
  },
  {
   "cell_type": "markdown",
   "id": "olympic-summer",
   "metadata": {},
   "source": [
    "### Number 7"
   ]
  },
  {
   "cell_type": "code",
   "execution_count": 23,
   "id": "beneficial-librarian",
   "metadata": {},
   "outputs": [
    {
     "data": {
      "text/plain": [
       "array([[1., 0., 0., 0., 0.],\n",
       "       [0., 1., 0., 0., 0.],\n",
       "       [0., 0., 1., 0., 0.],\n",
       "       [0., 0., 0., 1., 0.],\n",
       "       [0., 0., 0., 0., 1.]])"
      ]
     },
     "execution_count": 23,
     "metadata": {},
     "output_type": "execute_result"
    }
   ],
   "source": [
    "import numpy as np\n",
    "np.identity(5)"
   ]
  },
  {
   "cell_type": "markdown",
   "id": "isolated-basket",
   "metadata": {},
   "source": [
    "### Number 8"
   ]
  },
  {
   "cell_type": "code",
   "execution_count": 56,
   "id": "saved-calgary",
   "metadata": {},
   "outputs": [
    {
     "name": "stdout",
     "output_type": "stream",
     "text": [
      "[2, 3, 5, 7, 11, 13, 17, 19]\n"
     ]
    }
   ],
   "source": [
    "def check_prime(n):\n",
    "    f = 0\n",
    "    if n > 1:\n",
    "        for i in range(2,n):\n",
    "            if (n % i) == 0:\n",
    "                f = 1\n",
    "                break\n",
    "    else:\n",
    "        f = 1\n",
    "    if f == 0:\n",
    "        return True\n",
    "    elif f == 1:\n",
    "        return False\n",
    "\n",
    "def print_prime(n):\n",
    "    prime_list = [n for n in range(n+1) if check_prime(n)]\n",
    "    print(prime_list)\n",
    "    \n",
    "print_prime(19)"
   ]
  },
  {
   "cell_type": "code",
   "execution_count": null,
   "id": "recorded-absolute",
   "metadata": {},
   "outputs": [],
   "source": []
  }
 ],
 "metadata": {
  "kernelspec": {
   "display_name": "Python 3",
   "language": "python",
   "name": "python3"
  },
  "language_info": {
   "codemirror_mode": {
    "name": "ipython",
    "version": 3
   },
   "file_extension": ".py",
   "mimetype": "text/x-python",
   "name": "python",
   "nbconvert_exporter": "python",
   "pygments_lexer": "ipython3",
   "version": "3.7.3"
  }
 },
 "nbformat": 4,
 "nbformat_minor": 5
}
