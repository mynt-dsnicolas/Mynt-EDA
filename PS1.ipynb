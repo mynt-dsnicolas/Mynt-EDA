{
 "cells": [
  {
   "cell_type": "markdown",
   "metadata": {},
   "source": [
    "# Problem Set 1 CS129.18\n",
    "\n",
    "The following problem set will revolve around hourly Philippine weather data observations from 1978 to 2018 sourced from NOAA (National Oceanic and Atmospheric Administration). \n",
    "\n",
    "The dataset `PH_Weather_v1.csv` has **11** columns. The columns are described as follows.\n",
    "\n",
    "* **datetime** maps to a YYYYMMDDSSSS string datetime format.\n",
    "* **wind_direction** represents the recorded compass direction of the wind. \n",
    "* **wind_speed** is the wind speed recorded in MPH.\n",
    "* **gust_speed** is the gust speed recorded in MPH. NAN if no recording.\n",
    "* **sea_level_pressure** is sea level pressure in millibars estimated to the nearest tenth.\n",
    "* **temperature** is the recorded temperature in celsius.\n",
    "* **altitude** is the station altimeter recording in inches. NAN if no recording.\n",
    "* **precipitation** is the station hourly precipitation report in inches. NAN if no recording.\n",
    "* **clouds** is the station observed cloud report.\n",
    "    * CLR-CLEAR \n",
    "    * SCT-SCATTERED\n",
    "    * BKN-BROKEN\n",
    "    * OVC-OVERCAST, \n",
    "    * OBS-OBSCURED\n",
    "    * POB-PARTIAL OBSCURATION \n",
    "* **visibility** is the station observed visibility in miles\n",
    "* **humidity** is the station observed relative humidity"
   ]
  },
  {
   "cell_type": "markdown",
   "metadata": {},
   "source": [
    "## Requirements\n",
    "\n",
    "\n",
    ">Atmospheric Science is a complex system that works with factors that interact with each other. We might be able use these variables to estimate the value of one of the key indicators: Temperature.\n",
    "\n",
    "Using the lessons on Linear Regression I and II, and the other resource notebooks, show the following in this Jupyter Notebook.\n",
    "\n",
    "Write your answers down as Markdown cells or comments in the code.\n",
    "\n",
    "1. What is the dimensionality or shape of the data? ( 1pt )\n",
    "\n",
    "2. What is mean temperature for the year 2017? ( 3pts )\n",
    "\n",
    "3. Solve for the beta coefficients for the columns that you can use in your dataset to predict temperature. ( 4pts )\n",
    "\n",
    "4. Show the relationship between the variable with the highest beta coefficient and temperature (Use a plot). ( 5pts )\n",
    "\n",
    "5. Solve for the Mean Squared Error of your predicted temperature against the actual temperature. ( 2pts )\n",
    "\n",
    "6. Solve for the R^2 score of the linear model used to predict temperature. ( 2pts )\n",
    "\n",
    "7. Identify if the model is a good model and why. ( 3pts )"
   ]
  },
  {
   "cell_type": "code",
   "execution_count": 1,
   "metadata": {},
   "outputs": [],
   "source": [
    "%matplotlib inline\n",
    "\n",
    "import matplotlib.pylab as plt\n",
    "import numpy as np\n",
    "import pandas as pd"
   ]
  },
  {
   "cell_type": "code",
   "execution_count": 2,
   "metadata": {},
   "outputs": [],
   "source": [
    "df = pd.read_csv(\"data/PH_Weather_v1.csv\")"
   ]
  },
  {
   "cell_type": "code",
   "execution_count": 3,
   "metadata": {},
   "outputs": [
    {
     "data": {
      "text/html": [
       "<div>\n",
       "<style scoped>\n",
       "    .dataframe tbody tr th:only-of-type {\n",
       "        vertical-align: middle;\n",
       "    }\n",
       "\n",
       "    .dataframe tbody tr th {\n",
       "        vertical-align: top;\n",
       "    }\n",
       "\n",
       "    .dataframe thead th {\n",
       "        text-align: right;\n",
       "    }\n",
       "</style>\n",
       "<table border=\"1\" class=\"dataframe\">\n",
       "  <thead>\n",
       "    <tr style=\"text-align: right;\">\n",
       "      <th></th>\n",
       "      <th>datetime</th>\n",
       "      <th>wind_direction</th>\n",
       "      <th>wind_speed</th>\n",
       "      <th>gust_speed</th>\n",
       "      <th>sea_level_pressure</th>\n",
       "      <th>temperature</th>\n",
       "      <th>altitude</th>\n",
       "      <th>precipitation</th>\n",
       "      <th>clouds</th>\n",
       "      <th>visibility</th>\n",
       "      <th>humidity</th>\n",
       "    </tr>\n",
       "  </thead>\n",
       "  <tbody>\n",
       "    <tr>\n",
       "      <th>0</th>\n",
       "      <td>197809140300</td>\n",
       "      <td>160</td>\n",
       "      <td>2</td>\n",
       "      <td>NaN</td>\n",
       "      <td>1007.7</td>\n",
       "      <td>30</td>\n",
       "      <td>NaN</td>\n",
       "      <td>NaN</td>\n",
       "      <td>BKN</td>\n",
       "      <td>15.6</td>\n",
       "      <td>0.75</td>\n",
       "    </tr>\n",
       "    <tr>\n",
       "      <th>1</th>\n",
       "      <td>197810021500</td>\n",
       "      <td>0</td>\n",
       "      <td>0</td>\n",
       "      <td>NaN</td>\n",
       "      <td>1011.3</td>\n",
       "      <td>26</td>\n",
       "      <td>NaN</td>\n",
       "      <td>NaN</td>\n",
       "      <td>OVC</td>\n",
       "      <td>6.2</td>\n",
       "      <td>0.94</td>\n",
       "    </tr>\n",
       "    <tr>\n",
       "      <th>2</th>\n",
       "      <td>197810252100</td>\n",
       "      <td>360</td>\n",
       "      <td>9</td>\n",
       "      <td>NaN</td>\n",
       "      <td>1004.1</td>\n",
       "      <td>26</td>\n",
       "      <td>NaN</td>\n",
       "      <td>NaN</td>\n",
       "      <td>BKN</td>\n",
       "      <td>6.2</td>\n",
       "      <td>0.80</td>\n",
       "    </tr>\n",
       "    <tr>\n",
       "      <th>3</th>\n",
       "      <td>197810260000</td>\n",
       "      <td>360</td>\n",
       "      <td>21</td>\n",
       "      <td>NaN</td>\n",
       "      <td>1006.3</td>\n",
       "      <td>26</td>\n",
       "      <td>NaN</td>\n",
       "      <td>NaN</td>\n",
       "      <td>OVC</td>\n",
       "      <td>6.2</td>\n",
       "      <td>0.80</td>\n",
       "    </tr>\n",
       "    <tr>\n",
       "      <th>4</th>\n",
       "      <td>197811131500</td>\n",
       "      <td>0</td>\n",
       "      <td>0</td>\n",
       "      <td>NaN</td>\n",
       "      <td>1010.1</td>\n",
       "      <td>26</td>\n",
       "      <td>NaN</td>\n",
       "      <td>NaN</td>\n",
       "      <td>BKN</td>\n",
       "      <td>11.2</td>\n",
       "      <td>0.88</td>\n",
       "    </tr>\n",
       "  </tbody>\n",
       "</table>\n",
       "</div>"
      ],
      "text/plain": [
       "       datetime  wind_direction  wind_speed  gust_speed  sea_level_pressure  \\\n",
       "0  197809140300             160           2         NaN              1007.7   \n",
       "1  197810021500               0           0         NaN              1011.3   \n",
       "2  197810252100             360           9         NaN              1004.1   \n",
       "3  197810260000             360          21         NaN              1006.3   \n",
       "4  197811131500               0           0         NaN              1010.1   \n",
       "\n",
       "   temperature  altitude  precipitation clouds  visibility  humidity  \n",
       "0           30       NaN            NaN    BKN        15.6      0.75  \n",
       "1           26       NaN            NaN    OVC         6.2      0.94  \n",
       "2           26       NaN            NaN    BKN         6.2      0.80  \n",
       "3           26       NaN            NaN    OVC         6.2      0.80  \n",
       "4           26       NaN            NaN    BKN        11.2      0.88  "
      ]
     },
     "execution_count": 3,
     "metadata": {},
     "output_type": "execute_result"
    }
   ],
   "source": [
    "df.head()"
   ]
  },
  {
   "cell_type": "markdown",
   "metadata": {},
   "source": [
    "### 1. What is the dimensionality or shape of the data?"
   ]
  },
  {
   "cell_type": "code",
   "execution_count": 14,
   "metadata": {},
   "outputs": [
    {
     "data": {
      "text/plain": [
       "(90565, 11)"
      ]
     },
     "execution_count": 14,
     "metadata": {},
     "output_type": "execute_result"
    }
   ],
   "source": [
    "df.shape"
   ]
  },
  {
   "cell_type": "code",
   "execution_count": 18,
   "metadata": {},
   "outputs": [
    {
     "data": {
      "text/plain": [
       "datetime                int64\n",
       "wind_direction          int64\n",
       "wind_speed              int64\n",
       "gust_speed            float64\n",
       "sea_level_pressure    float64\n",
       "temperature             int64\n",
       "altitude              float64\n",
       "precipitation         float64\n",
       "clouds                 object\n",
       "visibility            float64\n",
       "humidity              float64\n",
       "dtype: object"
      ]
     },
     "execution_count": 18,
     "metadata": {},
     "output_type": "execute_result"
    }
   ],
   "source": [
    "df.dtypes"
   ]
  },
  {
   "cell_type": "code",
   "execution_count": 4,
   "metadata": {},
   "outputs": [
    {
     "data": {
      "text/plain": [
       "[nan]"
      ]
     },
     "execution_count": 4,
     "metadata": {},
     "output_type": "execute_result"
    }
   ],
   "source": [
    "list(df['altitude'].unique())"
   ]
  },
  {
   "cell_type": "code",
   "execution_count": 13,
   "metadata": {},
   "outputs": [
    {
     "data": {
      "text/plain": [
       "[nan, 0.04, 1.14, 0.87, 0.35, 0.28, 0.08, 0.24]"
      ]
     },
     "execution_count": 13,
     "metadata": {},
     "output_type": "execute_result"
    }
   ],
   "source": [
    "list(df['precipitation'].unique())"
   ]
  },
  {
   "cell_type": "code",
   "execution_count": 12,
   "metadata": {},
   "outputs": [
    {
     "data": {
      "text/plain": [
       "0.04    6\n",
       "0.28    2\n",
       "0.08    1\n",
       "1.14    1\n",
       "0.35    1\n",
       "0.24    1\n",
       "0.87    1\n",
       "Name: precipitation, dtype: int64"
      ]
     },
     "execution_count": 12,
     "metadata": {},
     "output_type": "execute_result"
    }
   ],
   "source": [
    "df['precipitation'].value_counts()"
   ]
  },
  {
   "cell_type": "code",
   "execution_count": 7,
   "metadata": {},
   "outputs": [
    {
     "data": {
      "text/plain": [
       "datetime                  0\n",
       "wind_direction            0\n",
       "wind_speed                0\n",
       "gust_speed            90564\n",
       "sea_level_pressure        0\n",
       "temperature               0\n",
       "altitude              90565\n",
       "precipitation         90552\n",
       "clouds                    0\n",
       "visibility                0\n",
       "humidity                  0\n",
       "dtype: int64"
      ]
     },
     "execution_count": 7,
     "metadata": {},
     "output_type": "execute_result"
    }
   ],
   "source": [
    "df.isna().sum()"
   ]
  },
  {
   "cell_type": "code",
   "execution_count": 6,
   "metadata": {},
   "outputs": [
    {
     "data": {
      "text/html": [
       "<div>\n",
       "<style scoped>\n",
       "    .dataframe tbody tr th:only-of-type {\n",
       "        vertical-align: middle;\n",
       "    }\n",
       "\n",
       "    .dataframe tbody tr th {\n",
       "        vertical-align: top;\n",
       "    }\n",
       "\n",
       "    .dataframe thead th {\n",
       "        text-align: right;\n",
       "    }\n",
       "</style>\n",
       "<table border=\"1\" class=\"dataframe\">\n",
       "  <thead>\n",
       "    <tr style=\"text-align: right;\">\n",
       "      <th></th>\n",
       "      <th>datetime</th>\n",
       "      <th>wind_direction</th>\n",
       "      <th>wind_speed</th>\n",
       "      <th>gust_speed</th>\n",
       "      <th>sea_level_pressure</th>\n",
       "      <th>temperature</th>\n",
       "      <th>altitude</th>\n",
       "      <th>precipitation</th>\n",
       "      <th>visibility</th>\n",
       "      <th>humidity</th>\n",
       "    </tr>\n",
       "  </thead>\n",
       "  <tbody>\n",
       "    <tr>\n",
       "      <th>datetime</th>\n",
       "      <td>1.000000</td>\n",
       "      <td>0.065113</td>\n",
       "      <td>0.001526</td>\n",
       "      <td>NaN</td>\n",
       "      <td>0.061432</td>\n",
       "      <td>0.038553</td>\n",
       "      <td>NaN</td>\n",
       "      <td>-0.195087</td>\n",
       "      <td>0.164154</td>\n",
       "      <td>0.044368</td>\n",
       "    </tr>\n",
       "    <tr>\n",
       "      <th>wind_direction</th>\n",
       "      <td>0.065113</td>\n",
       "      <td>1.000000</td>\n",
       "      <td>0.221674</td>\n",
       "      <td>NaN</td>\n",
       "      <td>0.000481</td>\n",
       "      <td>0.080940</td>\n",
       "      <td>NaN</td>\n",
       "      <td>-0.480181</td>\n",
       "      <td>-0.075325</td>\n",
       "      <td>0.045584</td>\n",
       "    </tr>\n",
       "    <tr>\n",
       "      <th>wind_speed</th>\n",
       "      <td>0.001526</td>\n",
       "      <td>0.221674</td>\n",
       "      <td>1.000000</td>\n",
       "      <td>NaN</td>\n",
       "      <td>-0.025783</td>\n",
       "      <td>0.286988</td>\n",
       "      <td>NaN</td>\n",
       "      <td>-0.058078</td>\n",
       "      <td>0.071636</td>\n",
       "      <td>-0.159945</td>\n",
       "    </tr>\n",
       "    <tr>\n",
       "      <th>gust_speed</th>\n",
       "      <td>NaN</td>\n",
       "      <td>NaN</td>\n",
       "      <td>NaN</td>\n",
       "      <td>NaN</td>\n",
       "      <td>NaN</td>\n",
       "      <td>NaN</td>\n",
       "      <td>NaN</td>\n",
       "      <td>NaN</td>\n",
       "      <td>NaN</td>\n",
       "      <td>NaN</td>\n",
       "    </tr>\n",
       "    <tr>\n",
       "      <th>sea_level_pressure</th>\n",
       "      <td>0.061432</td>\n",
       "      <td>0.000481</td>\n",
       "      <td>-0.025783</td>\n",
       "      <td>NaN</td>\n",
       "      <td>1.000000</td>\n",
       "      <td>-0.001232</td>\n",
       "      <td>NaN</td>\n",
       "      <td>0.021585</td>\n",
       "      <td>-0.010930</td>\n",
       "      <td>-0.011421</td>\n",
       "    </tr>\n",
       "    <tr>\n",
       "      <th>temperature</th>\n",
       "      <td>0.038553</td>\n",
       "      <td>0.080940</td>\n",
       "      <td>0.286988</td>\n",
       "      <td>NaN</td>\n",
       "      <td>-0.001232</td>\n",
       "      <td>1.000000</td>\n",
       "      <td>NaN</td>\n",
       "      <td>-0.256197</td>\n",
       "      <td>0.246923</td>\n",
       "      <td>-0.646611</td>\n",
       "    </tr>\n",
       "    <tr>\n",
       "      <th>altitude</th>\n",
       "      <td>NaN</td>\n",
       "      <td>NaN</td>\n",
       "      <td>NaN</td>\n",
       "      <td>NaN</td>\n",
       "      <td>NaN</td>\n",
       "      <td>NaN</td>\n",
       "      <td>NaN</td>\n",
       "      <td>NaN</td>\n",
       "      <td>NaN</td>\n",
       "      <td>NaN</td>\n",
       "    </tr>\n",
       "    <tr>\n",
       "      <th>precipitation</th>\n",
       "      <td>-0.195087</td>\n",
       "      <td>-0.480181</td>\n",
       "      <td>-0.058078</td>\n",
       "      <td>NaN</td>\n",
       "      <td>0.021585</td>\n",
       "      <td>-0.256197</td>\n",
       "      <td>NaN</td>\n",
       "      <td>1.000000</td>\n",
       "      <td>-0.519037</td>\n",
       "      <td>0.596638</td>\n",
       "    </tr>\n",
       "    <tr>\n",
       "      <th>visibility</th>\n",
       "      <td>0.164154</td>\n",
       "      <td>-0.075325</td>\n",
       "      <td>0.071636</td>\n",
       "      <td>NaN</td>\n",
       "      <td>-0.010930</td>\n",
       "      <td>0.246923</td>\n",
       "      <td>NaN</td>\n",
       "      <td>-0.519037</td>\n",
       "      <td>1.000000</td>\n",
       "      <td>-0.193111</td>\n",
       "    </tr>\n",
       "    <tr>\n",
       "      <th>humidity</th>\n",
       "      <td>0.044368</td>\n",
       "      <td>0.045584</td>\n",
       "      <td>-0.159945</td>\n",
       "      <td>NaN</td>\n",
       "      <td>-0.011421</td>\n",
       "      <td>-0.646611</td>\n",
       "      <td>NaN</td>\n",
       "      <td>0.596638</td>\n",
       "      <td>-0.193111</td>\n",
       "      <td>1.000000</td>\n",
       "    </tr>\n",
       "  </tbody>\n",
       "</table>\n",
       "</div>"
      ],
      "text/plain": [
       "                    datetime  wind_direction  wind_speed  gust_speed  \\\n",
       "datetime            1.000000        0.065113    0.001526         NaN   \n",
       "wind_direction      0.065113        1.000000    0.221674         NaN   \n",
       "wind_speed          0.001526        0.221674    1.000000         NaN   \n",
       "gust_speed               NaN             NaN         NaN         NaN   \n",
       "sea_level_pressure  0.061432        0.000481   -0.025783         NaN   \n",
       "temperature         0.038553        0.080940    0.286988         NaN   \n",
       "altitude                 NaN             NaN         NaN         NaN   \n",
       "precipitation      -0.195087       -0.480181   -0.058078         NaN   \n",
       "visibility          0.164154       -0.075325    0.071636         NaN   \n",
       "humidity            0.044368        0.045584   -0.159945         NaN   \n",
       "\n",
       "                    sea_level_pressure  temperature  altitude  precipitation  \\\n",
       "datetime                      0.061432     0.038553       NaN      -0.195087   \n",
       "wind_direction                0.000481     0.080940       NaN      -0.480181   \n",
       "wind_speed                   -0.025783     0.286988       NaN      -0.058078   \n",
       "gust_speed                         NaN          NaN       NaN            NaN   \n",
       "sea_level_pressure            1.000000    -0.001232       NaN       0.021585   \n",
       "temperature                  -0.001232     1.000000       NaN      -0.256197   \n",
       "altitude                           NaN          NaN       NaN            NaN   \n",
       "precipitation                 0.021585    -0.256197       NaN       1.000000   \n",
       "visibility                   -0.010930     0.246923       NaN      -0.519037   \n",
       "humidity                     -0.011421    -0.646611       NaN       0.596638   \n",
       "\n",
       "                    visibility  humidity  \n",
       "datetime              0.164154  0.044368  \n",
       "wind_direction       -0.075325  0.045584  \n",
       "wind_speed            0.071636 -0.159945  \n",
       "gust_speed                 NaN       NaN  \n",
       "sea_level_pressure   -0.010930 -0.011421  \n",
       "temperature           0.246923 -0.646611  \n",
       "altitude                   NaN       NaN  \n",
       "precipitation        -0.519037  0.596638  \n",
       "visibility            1.000000 -0.193111  \n",
       "humidity             -0.193111  1.000000  "
      ]
     },
     "execution_count": 6,
     "metadata": {},
     "output_type": "execute_result"
    }
   ],
   "source": [
    "df.corr(method ='pearson')"
   ]
  },
  {
   "cell_type": "markdown",
   "metadata": {},
   "source": [
    "### 2. What is mean temperature for the year 2017? "
   ]
  },
  {
   "cell_type": "code",
   "execution_count": 14,
   "metadata": {},
   "outputs": [
    {
     "data": {
      "text/html": [
       "<div>\n",
       "<style scoped>\n",
       "    .dataframe tbody tr th:only-of-type {\n",
       "        vertical-align: middle;\n",
       "    }\n",
       "\n",
       "    .dataframe tbody tr th {\n",
       "        vertical-align: top;\n",
       "    }\n",
       "\n",
       "    .dataframe thead th {\n",
       "        text-align: right;\n",
       "    }\n",
       "</style>\n",
       "<table border=\"1\" class=\"dataframe\">\n",
       "  <thead>\n",
       "    <tr style=\"text-align: right;\">\n",
       "      <th></th>\n",
       "      <th>datetime</th>\n",
       "      <th>wind_direction</th>\n",
       "      <th>wind_speed</th>\n",
       "      <th>gust_speed</th>\n",
       "      <th>sea_level_pressure</th>\n",
       "      <th>temperature</th>\n",
       "      <th>altitude</th>\n",
       "      <th>precipitation</th>\n",
       "      <th>clouds</th>\n",
       "      <th>visibility</th>\n",
       "      <th>humidity</th>\n",
       "    </tr>\n",
       "  </thead>\n",
       "  <tbody>\n",
       "    <tr>\n",
       "      <th>88634</th>\n",
       "      <td>201712310900</td>\n",
       "      <td>70</td>\n",
       "      <td>9</td>\n",
       "      <td>NaN</td>\n",
       "      <td>1009.6</td>\n",
       "      <td>28</td>\n",
       "      <td>NaN</td>\n",
       "      <td>NaN</td>\n",
       "      <td>BKN</td>\n",
       "      <td>7.5</td>\n",
       "      <td>0.49</td>\n",
       "    </tr>\n",
       "    <tr>\n",
       "      <th>88635</th>\n",
       "      <td>201712311200</td>\n",
       "      <td>40</td>\n",
       "      <td>4</td>\n",
       "      <td>NaN</td>\n",
       "      <td>1011.5</td>\n",
       "      <td>26</td>\n",
       "      <td>NaN</td>\n",
       "      <td>NaN</td>\n",
       "      <td>BKN</td>\n",
       "      <td>7.5</td>\n",
       "      <td>0.66</td>\n",
       "    </tr>\n",
       "    <tr>\n",
       "      <th>88636</th>\n",
       "      <td>201712311500</td>\n",
       "      <td>0</td>\n",
       "      <td>0</td>\n",
       "      <td>NaN</td>\n",
       "      <td>1011.5</td>\n",
       "      <td>26</td>\n",
       "      <td>NaN</td>\n",
       "      <td>NaN</td>\n",
       "      <td>BKN</td>\n",
       "      <td>7.5</td>\n",
       "      <td>0.66</td>\n",
       "    </tr>\n",
       "    <tr>\n",
       "      <th>88637</th>\n",
       "      <td>201712311800</td>\n",
       "      <td>0</td>\n",
       "      <td>0</td>\n",
       "      <td>NaN</td>\n",
       "      <td>1010.7</td>\n",
       "      <td>25</td>\n",
       "      <td>NaN</td>\n",
       "      <td>NaN</td>\n",
       "      <td>BKN</td>\n",
       "      <td>7.5</td>\n",
       "      <td>0.72</td>\n",
       "    </tr>\n",
       "    <tr>\n",
       "      <th>88638</th>\n",
       "      <td>201712312100</td>\n",
       "      <td>20</td>\n",
       "      <td>2</td>\n",
       "      <td>NaN</td>\n",
       "      <td>1010.2</td>\n",
       "      <td>24</td>\n",
       "      <td>NaN</td>\n",
       "      <td>NaN</td>\n",
       "      <td>BKN</td>\n",
       "      <td>7.5</td>\n",
       "      <td>0.69</td>\n",
       "    </tr>\n",
       "  </tbody>\n",
       "</table>\n",
       "</div>"
      ],
      "text/plain": [
       "           datetime  wind_direction  wind_speed  gust_speed  \\\n",
       "88634  201712310900              70           9         NaN   \n",
       "88635  201712311200              40           4         NaN   \n",
       "88636  201712311500               0           0         NaN   \n",
       "88637  201712311800               0           0         NaN   \n",
       "88638  201712312100              20           2         NaN   \n",
       "\n",
       "       sea_level_pressure  temperature  altitude  precipitation clouds  \\\n",
       "88634              1009.6           28       NaN            NaN    BKN   \n",
       "88635              1011.5           26       NaN            NaN    BKN   \n",
       "88636              1011.5           26       NaN            NaN    BKN   \n",
       "88637              1010.7           25       NaN            NaN    BKN   \n",
       "88638              1010.2           24       NaN            NaN    BKN   \n",
       "\n",
       "       visibility  humidity  \n",
       "88634         7.5      0.49  \n",
       "88635         7.5      0.66  \n",
       "88636         7.5      0.66  \n",
       "88637         7.5      0.72  \n",
       "88638         7.5      0.69  "
      ]
     },
     "execution_count": 14,
     "metadata": {},
     "output_type": "execute_result"
    }
   ],
   "source": [
    "df_2017 = df[(df['datetime'] >= 201700000000) & (df['datetime'] < 201800000000)]\n",
    "df_2017.tail()"
   ]
  },
  {
   "cell_type": "code",
   "execution_count": 19,
   "metadata": {},
   "outputs": [
    {
     "data": {
      "text/plain": [
       "(2896, 11)"
      ]
     },
     "execution_count": 19,
     "metadata": {},
     "output_type": "execute_result"
    }
   ],
   "source": [
    "df_2017.shape"
   ]
  },
  {
   "cell_type": "code",
   "execution_count": 17,
   "metadata": {},
   "outputs": [
    {
     "name": "stdout",
     "output_type": "stream",
     "text": [
      "The mean temperature for 2017 is 27.93335635359116 Celsius degrees.\n"
     ]
    }
   ],
   "source": [
    "mean = df_2017['temperature'].mean()\n",
    "print(f'The mean temperature for 2017 is {mean} Celsius degrees.')"
   ]
  },
  {
   "cell_type": "markdown",
   "metadata": {},
   "source": [
    "### 3. Solve for the beta coefficients for the columns that you can use in your dataset to predict temperature."
   ]
  },
  {
   "cell_type": "code",
   "execution_count": 36,
   "metadata": {},
   "outputs": [
    {
     "data": {
      "text/plain": [
       "False"
      ]
     },
     "execution_count": 36,
     "metadata": {},
     "output_type": "execute_result"
    }
   ],
   "source": [
    "df_temperature = df[['sea_level_pressure', 'wind_speed', 'humidity', 'temperature']].dropna()\n",
    "df_temperature.isnull().values.any()"
   ]
  },
  {
   "cell_type": "code",
   "execution_count": 37,
   "metadata": {},
   "outputs": [
    {
     "data": {
      "text/html": [
       "<div>\n",
       "<style scoped>\n",
       "    .dataframe tbody tr th:only-of-type {\n",
       "        vertical-align: middle;\n",
       "    }\n",
       "\n",
       "    .dataframe tbody tr th {\n",
       "        vertical-align: top;\n",
       "    }\n",
       "\n",
       "    .dataframe thead th {\n",
       "        text-align: right;\n",
       "    }\n",
       "</style>\n",
       "<table border=\"1\" class=\"dataframe\">\n",
       "  <thead>\n",
       "    <tr style=\"text-align: right;\">\n",
       "      <th></th>\n",
       "      <th>sea_level_pressure</th>\n",
       "      <th>wind_speed</th>\n",
       "      <th>humidity</th>\n",
       "      <th>temperature</th>\n",
       "    </tr>\n",
       "  </thead>\n",
       "  <tbody>\n",
       "    <tr>\n",
       "      <th>0</th>\n",
       "      <td>1007.7</td>\n",
       "      <td>2</td>\n",
       "      <td>0.75</td>\n",
       "      <td>30</td>\n",
       "    </tr>\n",
       "    <tr>\n",
       "      <th>1</th>\n",
       "      <td>1011.3</td>\n",
       "      <td>0</td>\n",
       "      <td>0.94</td>\n",
       "      <td>26</td>\n",
       "    </tr>\n",
       "    <tr>\n",
       "      <th>2</th>\n",
       "      <td>1004.1</td>\n",
       "      <td>9</td>\n",
       "      <td>0.80</td>\n",
       "      <td>26</td>\n",
       "    </tr>\n",
       "    <tr>\n",
       "      <th>3</th>\n",
       "      <td>1006.3</td>\n",
       "      <td>21</td>\n",
       "      <td>0.80</td>\n",
       "      <td>26</td>\n",
       "    </tr>\n",
       "    <tr>\n",
       "      <th>4</th>\n",
       "      <td>1010.1</td>\n",
       "      <td>0</td>\n",
       "      <td>0.88</td>\n",
       "      <td>26</td>\n",
       "    </tr>\n",
       "    <tr>\n",
       "      <th>...</th>\n",
       "      <td>...</td>\n",
       "      <td>...</td>\n",
       "      <td>...</td>\n",
       "      <td>...</td>\n",
       "    </tr>\n",
       "    <tr>\n",
       "      <th>90560</th>\n",
       "      <td>1007.0</td>\n",
       "      <td>0</td>\n",
       "      <td>0.80</td>\n",
       "      <td>28</td>\n",
       "    </tr>\n",
       "    <tr>\n",
       "      <th>90561</th>\n",
       "      <td>1008.1</td>\n",
       "      <td>4</td>\n",
       "      <td>0.86</td>\n",
       "      <td>28</td>\n",
       "    </tr>\n",
       "    <tr>\n",
       "      <th>90562</th>\n",
       "      <td>1008.9</td>\n",
       "      <td>4</td>\n",
       "      <td>0.80</td>\n",
       "      <td>27</td>\n",
       "    </tr>\n",
       "    <tr>\n",
       "      <th>90563</th>\n",
       "      <td>1007.9</td>\n",
       "      <td>7</td>\n",
       "      <td>0.77</td>\n",
       "      <td>27</td>\n",
       "    </tr>\n",
       "    <tr>\n",
       "      <th>90564</th>\n",
       "      <td>1007.1</td>\n",
       "      <td>4</td>\n",
       "      <td>0.80</td>\n",
       "      <td>26</td>\n",
       "    </tr>\n",
       "  </tbody>\n",
       "</table>\n",
       "<p>90565 rows × 4 columns</p>\n",
       "</div>"
      ],
      "text/plain": [
       "       sea_level_pressure  wind_speed  humidity  temperature\n",
       "0                  1007.7           2      0.75           30\n",
       "1                  1011.3           0      0.94           26\n",
       "2                  1004.1           9      0.80           26\n",
       "3                  1006.3          21      0.80           26\n",
       "4                  1010.1           0      0.88           26\n",
       "...                   ...         ...       ...          ...\n",
       "90560              1007.0           0      0.80           28\n",
       "90561              1008.1           4      0.86           28\n",
       "90562              1008.9           4      0.80           27\n",
       "90563              1007.9           7      0.77           27\n",
       "90564              1007.1           4      0.80           26\n",
       "\n",
       "[90565 rows x 4 columns]"
      ]
     },
     "execution_count": 37,
     "metadata": {},
     "output_type": "execute_result"
    }
   ],
   "source": [
    "df_temperature"
   ]
  },
  {
   "cell_type": "code",
   "execution_count": 38,
   "metadata": {},
   "outputs": [
    {
     "data": {
      "text/html": [
       "<div>\n",
       "<style scoped>\n",
       "    .dataframe tbody tr th:only-of-type {\n",
       "        vertical-align: middle;\n",
       "    }\n",
       "\n",
       "    .dataframe tbody tr th {\n",
       "        vertical-align: top;\n",
       "    }\n",
       "\n",
       "    .dataframe thead th {\n",
       "        text-align: right;\n",
       "    }\n",
       "</style>\n",
       "<table border=\"1\" class=\"dataframe\">\n",
       "  <thead>\n",
       "    <tr style=\"text-align: right;\">\n",
       "      <th></th>\n",
       "      <th>sea_level_pressure</th>\n",
       "      <th>wind_speed</th>\n",
       "      <th>humidity</th>\n",
       "    </tr>\n",
       "  </thead>\n",
       "  <tbody>\n",
       "    <tr>\n",
       "      <th>0</th>\n",
       "      <td>1007.7</td>\n",
       "      <td>2</td>\n",
       "      <td>0.75</td>\n",
       "    </tr>\n",
       "    <tr>\n",
       "      <th>1</th>\n",
       "      <td>1011.3</td>\n",
       "      <td>0</td>\n",
       "      <td>0.94</td>\n",
       "    </tr>\n",
       "    <tr>\n",
       "      <th>2</th>\n",
       "      <td>1004.1</td>\n",
       "      <td>9</td>\n",
       "      <td>0.80</td>\n",
       "    </tr>\n",
       "    <tr>\n",
       "      <th>3</th>\n",
       "      <td>1006.3</td>\n",
       "      <td>21</td>\n",
       "      <td>0.80</td>\n",
       "    </tr>\n",
       "    <tr>\n",
       "      <th>4</th>\n",
       "      <td>1010.1</td>\n",
       "      <td>0</td>\n",
       "      <td>0.88</td>\n",
       "    </tr>\n",
       "  </tbody>\n",
       "</table>\n",
       "</div>"
      ],
      "text/plain": [
       "   sea_level_pressure  wind_speed  humidity\n",
       "0              1007.7           2      0.75\n",
       "1              1011.3           0      0.94\n",
       "2              1004.1           9      0.80\n",
       "3              1006.3          21      0.80\n",
       "4              1010.1           0      0.88"
      ]
     },
     "execution_count": 38,
     "metadata": {},
     "output_type": "execute_result"
    }
   ],
   "source": [
    "from sklearn.linear_model import LinearRegression\n",
    "\n",
    "X = df_temperature.drop(\"temperature\", axis=1)\n",
    "X.head()"
   ]
  },
  {
   "cell_type": "code",
   "execution_count": 39,
   "metadata": {},
   "outputs": [
    {
     "data": {
      "text/plain": [
       "LinearRegression()"
      ]
     },
     "execution_count": 39,
     "metadata": {},
     "output_type": "execute_result"
    }
   ],
   "source": [
    "linear_model = LinearRegression()\n",
    "linear_model.fit(X, df_temperature[\"temperature\"])"
   ]
  },
  {
   "cell_type": "code",
   "execution_count": 40,
   "metadata": {},
   "outputs": [
    {
     "name": "stdout",
     "output_type": "stream",
     "text": [
      "Coefficient values: [-1.01810583e-04  9.96129303e-02 -1.11658163e+01]\n"
     ]
    }
   ],
   "source": [
    "print(f\"Coefficient values: {linear_model.coef_}\")"
   ]
  },
  {
   "cell_type": "code",
   "execution_count": 41,
   "metadata": {},
   "outputs": [
    {
     "data": {
      "text/html": [
       "<div>\n",
       "<style scoped>\n",
       "    .dataframe tbody tr th:only-of-type {\n",
       "        vertical-align: middle;\n",
       "    }\n",
       "\n",
       "    .dataframe tbody tr th {\n",
       "        vertical-align: top;\n",
       "    }\n",
       "\n",
       "    .dataframe thead th {\n",
       "        text-align: right;\n",
       "    }\n",
       "</style>\n",
       "<table border=\"1\" class=\"dataframe\">\n",
       "  <thead>\n",
       "    <tr style=\"text-align: right;\">\n",
       "      <th></th>\n",
       "      <th>0</th>\n",
       "      <th>1</th>\n",
       "    </tr>\n",
       "  </thead>\n",
       "  <tbody>\n",
       "    <tr>\n",
       "      <th>0</th>\n",
       "      <td>sea_level_pressure</td>\n",
       "      <td>-0.000102</td>\n",
       "    </tr>\n",
       "    <tr>\n",
       "      <th>1</th>\n",
       "      <td>wind_speed</td>\n",
       "      <td>0.099613</td>\n",
       "    </tr>\n",
       "    <tr>\n",
       "      <th>2</th>\n",
       "      <td>humidity</td>\n",
       "      <td>-11.165816</td>\n",
       "    </tr>\n",
       "  </tbody>\n",
       "</table>\n",
       "</div>"
      ],
      "text/plain": [
       "                    0          1\n",
       "0  sea_level_pressure  -0.000102\n",
       "1          wind_speed   0.099613\n",
       "2            humidity -11.165816"
      ]
     },
     "execution_count": 41,
     "metadata": {},
     "output_type": "execute_result"
    }
   ],
   "source": [
    "pd.DataFrame(list(zip(X.columns, linear_model.coef_)))"
   ]
  },
  {
   "cell_type": "markdown",
   "metadata": {},
   "source": [
    "### 4. Show the relationship between the variable with the highest beta coefficient and temperature (Use a plot)."
   ]
  },
  {
   "cell_type": "code",
   "execution_count": 47,
   "metadata": {},
   "outputs": [
    {
     "data": {
      "text/plain": [
       "Text(0.5, 1.0, 'Relationship between Humidity and Temperature')"
      ]
     },
     "execution_count": 47,
     "metadata": {},
     "output_type": "execute_result"
    },
    {
     "data": {
      "image/png": "[encoded data removed]",
      "text/plain": [
       "<Figure size 720x576 with 1 Axes>"
      ]
     },
     "metadata": {},
     "output_type": "display_data"
    }
   ],
   "source": [
    "plt.style.use('fivethirtyeight')\n",
    "plt.figure(figsize=(10,8))\n",
    "\n",
    "plt.scatter(df_temperature[\"humidity\"], df_temperature[\"temperature\"])\n",
    "plt.xlabel(\"Humidity\")\n",
    "plt.ylabel(\"Temperature\")\n",
    "plt.title(\"Relationship between Humidity and Temperature\")"
   ]
  },
  {
   "cell_type": "markdown",
   "metadata": {},
   "source": [
    "### 5. Solve for the Mean Squared Error of your predicted temperature against the actual temperature."
   ]
  },
  {
   "cell_type": "code",
   "execution_count": 43,
   "metadata": {},
   "outputs": [
    {
     "data": {
      "text/html": [
       "<div>\n",
       "<style scoped>\n",
       "    .dataframe tbody tr th:only-of-type {\n",
       "        vertical-align: middle;\n",
       "    }\n",
       "\n",
       "    .dataframe tbody tr th {\n",
       "        vertical-align: top;\n",
       "    }\n",
       "\n",
       "    .dataframe thead th {\n",
       "        text-align: right;\n",
       "    }\n",
       "</style>\n",
       "<table border=\"1\" class=\"dataframe\">\n",
       "  <thead>\n",
       "    <tr style=\"text-align: right;\">\n",
       "      <th></th>\n",
       "      <th>humidity</th>\n",
       "      <th>temperature</th>\n",
       "      <th>PRED</th>\n",
       "    </tr>\n",
       "  </thead>\n",
       "  <tbody>\n",
       "    <tr>\n",
       "      <th>0</th>\n",
       "      <td>0.75</td>\n",
       "      <td>30</td>\n",
       "      <td>27.507489</td>\n",
       "    </tr>\n",
       "    <tr>\n",
       "      <th>1</th>\n",
       "      <td>0.94</td>\n",
       "      <td>26</td>\n",
       "      <td>25.186392</td>\n",
       "    </tr>\n",
       "    <tr>\n",
       "      <th>2</th>\n",
       "      <td>0.80</td>\n",
       "      <td>26</td>\n",
       "      <td>27.646856</td>\n",
       "    </tr>\n",
       "    <tr>\n",
       "      <th>3</th>\n",
       "      <td>0.80</td>\n",
       "      <td>26</td>\n",
       "      <td>28.841987</td>\n",
       "    </tr>\n",
       "    <tr>\n",
       "      <th>4</th>\n",
       "      <td>0.88</td>\n",
       "      <td>26</td>\n",
       "      <td>25.856463</td>\n",
       "    </tr>\n",
       "  </tbody>\n",
       "</table>\n",
       "</div>"
      ],
      "text/plain": [
       "   humidity  temperature       PRED\n",
       "0      0.75           30  27.507489\n",
       "1      0.94           26  25.186392\n",
       "2      0.80           26  27.646856\n",
       "3      0.80           26  28.841987\n",
       "4      0.88           26  25.856463"
      ]
     },
     "execution_count": 43,
     "metadata": {},
     "output_type": "execute_result"
    }
   ],
   "source": [
    "predictions = linear_model.predict(X)\n",
    "df_temperature[\"PRED\"] = predictions\n",
    "df_temperature[[\"humidity\", \"temperature\", \"PRED\"]].head()"
   ]
  },
  {
   "cell_type": "code",
   "execution_count": 44,
   "metadata": {},
   "outputs": [
    {
     "data": {
      "text/plain": [
       "1.6951043765673073"
      ]
     },
     "execution_count": 44,
     "metadata": {},
     "output_type": "execute_result"
    }
   ],
   "source": [
    "import math\n",
    "mean_squared_error = np.mean((df[\"temperature\"] - linear_model.predict(X))**2)\n",
    "math.sqrt(mean_squared_error)"
   ]
  },
  {
   "cell_type": "markdown",
   "metadata": {},
   "source": [
    "### 6.Solve for the R^2 score of the linear model used to predict temperature."
   ]
  },
  {
   "cell_type": "code",
   "execution_count": 45,
   "metadata": {},
   "outputs": [
    {
     "data": {
      "text/plain": [
       "0.45269800134412286"
      ]
     },
     "execution_count": 45,
     "metadata": {},
     "output_type": "execute_result"
    }
   ],
   "source": [
    "linear_model.score(X, df_temperature[\"temperature\"])"
   ]
  },
  {
   "cell_type": "markdown",
   "metadata": {},
   "source": [
    "### 7. Identify if the model is a good model and why."
   ]
  },
  {
   "cell_type": "markdown",
   "metadata": {},
   "source": [
    "Based on the R^2 score, the model is an acceptable but not that great model. A good model would have a higher R^2 score like 0.75 and up. However, since the data is dealing with weather phenomena which is uncontrollable and complex, the R^2 is still acceptable in predicting temperature. Improvements can be made by adding new data columns."
   ]
  },
  {
   "cell_type": "code",
   "execution_count": null,
   "metadata": {},
   "outputs": [],
   "source": []
  }
 ],
 "metadata": {
  "kernelspec": {
   "display_name": "Python 3",
   "language": "python",
   "name": "python3"
  },
  "language_info": {
   "codemirror_mode": {
    "name": "ipython",
    "version": 3
   },
   "file_extension": ".py",
   "mimetype": "text/x-python",
   "name": "python",
   "nbconvert_exporter": "python",
   "pygments_lexer": "ipython3",
   "version": "3.7.3"
  }
 },
 "nbformat": 4,
 "nbformat_minor": 4
}
