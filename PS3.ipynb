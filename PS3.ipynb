{
 "cells": [
  {
   "cell_type": "markdown",
   "metadata": {},
   "source": [
    "# Problem Set 3 CS129.18\n",
    "\n",
    "The following problem set will revolve around the Enron Emails dataset.\n",
    "The dataset `data/enron-data/` directory has 6 files. The objective is to build a classifier for whether email is spam or not.\n"
   ]
  },
  {
   "cell_type": "markdown",
   "metadata": {},
   "source": [
    "## Requirements\n",
    "\n",
    "\n",
    ">Spam or Ham?\n",
    "\n",
    "Using the lessons on Naive Bayes and TF-IDF, and the other resource notebooks, show the following in this Jupyter Notebook.\n",
    "\n",
    "Write your answers down as Markdown cells or comments in the code.\n",
    "\n",
    "**Using Enron 1 and 2**\n",
    "\n",
    "1. How many Spam Emails are there? ( 1 pt )\n",
    "\n",
    "2. Structure the email data from the 2 directories into 1 dataframe with columns: Status, Subject, Body ( 7 pts )\n",
    "\n",
    "3. Build a Naive Bayes classifier to classify whether emails are spam or not. ( 3 pts )\n",
    "\n",
    "4. What is the longest ham email? ( 1 pt )\n",
    "\n",
    "5. What is the accuracy of your model?( 1 pt )\n",
    "\n",
    "6. Include the Subject in the analysis of the emails, does the accuracy/performance of the model increase? (7 pts)\n",
    "\n",
    "\n",
    "\n",
    "-----\n",
    "\n",
    "\n",
    "Bonus : Answer questions 1-6 using Enron 1,2, and 3. (5 pts)\n",
    "\n",
    "----"
   ]
  },
  {
   "cell_type": "code",
   "execution_count": 30,
   "metadata": {},
   "outputs": [],
   "source": [
    "%matplotlib inline\n",
    "\n",
    "from sklearn.feature_extraction.text import TfidfVectorizer\n",
    "from sklearn.feature_extraction.text import CountVectorizer\n",
    "from sklearn.naive_bayes import GaussianNB\n",
    "from sklearn.model_selection import train_test_split, cross_val_score\n",
    "from sklearn import metrics\n",
    "import warnings\n",
    "warnings.filterwarnings(\"ignore\")\n",
    "\n",
    "import seaborn as sns\n",
    "import matplotlib.pylab as plt\n",
    "import numpy as np\n",
    "import pandas as pd\n",
    "import os\n",
    "import random"
   ]
  },
  {
   "cell_type": "code",
   "execution_count": 31,
   "metadata": {},
   "outputs": [
    {
     "name": "stdout",
     "output_type": "stream",
     "text": [
      "data/enron-data/enron1 ['ham', 'spam'] 2\n",
      "data/enron-data/enron1\\ham ['.ipynb_checkpoints'] 3672\n",
      "data/enron-data/enron1\\ham\\.ipynb_checkpoints [] 6\n",
      "data/enron-data/enron1\\spam ['.ipynb_checkpoints'] 1499\n",
      "data/enron-data/enron1\\spam\\.ipynb_checkpoints [] 1\n",
      "data/enron-data/enron2 ['ham', 'spam'] 1\n",
      "data/enron-data/enron2\\ham [] 4361\n",
      "data/enron-data/enron2\\spam [] 1494\n"
     ]
    }
   ],
   "source": [
    "rootdir_1 = \"data/enron-data/enron1\"\n",
    "rootdir_2 = \"data/enron-data/enron2\"\n",
    "# Loop through all the directories, sub directories and files in the above folder, and print them.\n",
    "for directories, subdirs, files in os.walk(rootdir_1):\n",
    "    print(directories, subdirs, len(files))\n",
    "\n",
    "for directories, subdirs, files in os.walk(rootdir_2):\n",
    "    print(directories, subdirs, len(files))"
   ]
  },
  {
   "cell_type": "code",
   "execution_count": 32,
   "metadata": {},
   "outputs": [
    {
     "name": "stdout",
     "output_type": "stream",
     "text": [
      "Subject: christmas tree farm pictures\n",
      "\n",
      "Subject: dobmeos with hgh my energy level has gone up ! stukm\n",
      "introducing\n",
      "doctor - formulated\n",
      "hgh\n",
      "human growth hormone - also called hgh\n",
      "is referred to in medical science as the master hormone . it is very plentiful\n",
      "when we are young , but near the age of twenty - one our bodies begin to produce\n",
      "less of it . by the time we are forty nearly everyone is deficient in hgh ,\n",
      "and at eighty our production has normally diminished at least 90 - 95 % .\n",
      "advantages of hgh :\n",
      "- increased muscle strength\n",
      "- loss in body fat\n",
      "- increased bone density\n",
      "- lower blood pressure\n",
      "- quickens wound healing\n",
      "- reduces cellulite\n",
      "- improved vision\n",
      "- wrinkle disappearance\n",
      "- increased skin thickness texture\n",
      "- increased energy levels\n",
      "- improved sleep and emotional stability\n",
      "- improved memory and mental alertness\n",
      "- increased sexual potency\n",
      "- resistance to common illness\n",
      "- strengthened heart muscle\n",
      "- controlled cholesterol\n",
      "- controlled mood swings\n",
      "- new hair growth and color restore\n",
      "read\n",
      "more at this website\n",
      "unsubscribe\n",
      "\n"
     ]
    }
   ],
   "source": [
    "ham_list = []\n",
    "spam_list = []\n",
    "\n",
    "# Same as before, but this time, read the files, and append them to the ham and spam list\n",
    "for directories, subdirs, files in os.walk(rootdir_1):\n",
    "    if (os.path.split(directories)[1]  == 'ham'):\n",
    "        for filename in files:      \n",
    "            with open(os.path.join(directories, filename), encoding=\"latin-1\") as f:\n",
    "                data = f.read()\n",
    "                ham_list.append(data)\n",
    "    \n",
    "    if (os.path.split(directories)[1]  == 'spam'):\n",
    "        for filename in files:\n",
    "            with open(os.path.join(directories, filename), encoding=\"latin-1\") as f:\n",
    "                data = f.read()\n",
    "                spam_list.append(data)\n",
    "\n",
    "# Same as before, but this time, read the files, and append them to the ham and spam list\n",
    "for directories, subdirs, files in os.walk(rootdir_2):\n",
    "    if (os.path.split(directories)[1]  == 'ham'):\n",
    "        for filename in files:      \n",
    "            with open(os.path.join(directories, filename), encoding=\"latin-1\") as f:\n",
    "                data = f.read()\n",
    "                ham_list.append(data)\n",
    "    \n",
    "    if (os.path.split(directories)[1]  == 'spam'):\n",
    "        for filename in files:\n",
    "            with open(os.path.join(directories, filename), encoding=\"latin-1\") as f:\n",
    "                data = f.read()\n",
    "                spam_list.append(data)\n",
    "\n",
    "\n",
    "print(ham_list[0])\n",
    "print(spam_list[0])"
   ]
  },
  {
   "cell_type": "markdown",
   "metadata": {},
   "source": [
    "### 1. How many Spam Emails are there? ( 1 pt )"
   ]
  },
  {
   "cell_type": "code",
   "execution_count": 33,
   "metadata": {},
   "outputs": [
    {
     "data": {
      "text/plain": [
       "2993"
      ]
     },
     "execution_count": 33,
     "metadata": {},
     "output_type": "execute_result"
    }
   ],
   "source": [
    "len(spam_list)"
   ]
  },
  {
   "cell_type": "code",
   "execution_count": 34,
   "metadata": {},
   "outputs": [
    {
     "data": {
      "text/plain": [
       "8033"
      ]
     },
     "execution_count": 34,
     "metadata": {},
     "output_type": "execute_result"
    }
   ],
   "source": [
    "len(ham_list)"
   ]
  },
  {
   "cell_type": "markdown",
   "metadata": {},
   "source": [
    "There are 1,499 spam emails."
   ]
  },
  {
   "cell_type": "markdown",
   "metadata": {},
   "source": [
    "### 2. Structure the email data from the 2 directories into 1 dataframe with columns: Status, Subject, Body ( 7 pts )"
   ]
  },
  {
   "cell_type": "code",
   "execution_count": 35,
   "metadata": {},
   "outputs": [],
   "source": [
    "import re\n",
    "\n",
    "test_ham = ham_list.copy()\n",
    "ham_split = []\n",
    "\n",
    "for email in test_ham:\n",
    "    email_split_list = email.split('\\n')\n",
    "    \n",
    "    subject = email_split_list[0]\n",
    "    subject_cleaned = subject.replace('Subject:', '').strip()\n",
    "    \n",
    "    body_list = email_split_list[1:-1]\n",
    "    #Remove special characters from the body\n",
    "    removetable = str.maketrans('', '', ',.:')\n",
    "    body_cleaned = [s.translate(removetable) for s in body_list]\n",
    "    body = ' '.join(body_cleaned)\n",
    "    body = re.sub(\"\\s+\", \" \", body.strip())\n",
    "\n",
    "    ham_split.append(['ham', subject_cleaned, body])"
   ]
  },
  {
   "cell_type": "code",
   "execution_count": 36,
   "metadata": {},
   "outputs": [
    {
     "data": {
      "text/plain": [
       "[['ham', 'christmas tree farm pictures', ''],\n",
       " ['ham',\n",
       "  'vastar resources , inc .',\n",
       "  'gary production from the high island larger block a - 1 # 2 commenced on saturday at 2 00 p m at about 6 500 gross carlos expects between 9 500 and 10 000 gross for tomorrow vastar owns 68 % of the gross production george x 3 - 6992 - - - - - - - - - - - - - - - - - - - - - - forwarded by george weissman / hou / ect on 12 / 13 / 99 10 16 am - - - - - - - - - - - - - - - - - - - - - - - - - - - daren j farmer 12 / 10 / 99 10 38 am to carlos j rodriguez / hou / ect @ ect cc george weissman / hou / ect @ ect melissa graves / hou / ect @ ect subject vastar resources inc carlos please call linda and get everything set up i \\' m going to estimate 4 500 coming up tomorrow with a 2 000 increase each following day based on my conversations with bill fischer at bmar d - - - - - - - - - - - - - - - - - - - - - - forwarded by daren j farmer / hou / ect on 12 / 10 / 99 10 34 am - - - - - - - - - - - - - - - - - - - - - - - - - - - enron north america corp from george weissman 12 / 10 / 99 10 00 am to daren j farmer / hou / ect @ ect cc gary bryan / hou / ect @ ect melissa graves / hou / ect @ ect subject vastar resources inc darren the attached appears to be a nomination from vastar resources inc for the high island larger block a - 1 # 2 ( previously erroneously referred to as the # 1 well ) vastar now expects the well to commence production sometime tomorrow i told linda harris that we \\' d get her a telephone number in gas control so she can provide notification of the turn - on tomorrow linda \\' s numbers for the record are 281 584 3359 voice and 713 312 1689 fax would you please see that someone contacts linda and advises her how to submit future nominations via e - mail fax or voice ? thanks george x 3 - 6992 - - - - - - - - - - - - - - - - - - - - - - forwarded by george weissman / hou / ect on 12 / 10 / 99 09 44 am - - - - - - - - - - - - - - - - - - - - - - - - - - - \" linda harris \" on 12 / 10 / 99 09 38 43 am to george weissman / hou / ect @ ect cc subject hi a - 1 # 2 effective 12 - 11 - 99 | - - - - - - - - + - - - - - - - - - - + - - - - - - - - - - - | | | | | | mscf / d | min ftp | time | | | | | | - - - - - - - - + - - - - - - - - - - + - - - - - - - - - - - | | | | | | 4 500 | 9 925 | 24 hours | | | | | | - - - - - - - - + - - - - - - - - - - + - - - - - - - - - - - | | | | | | 6 000 | 9 908 | 24 hours | | | | | | - - - - - - - - + - - - - - - - - - - + - - - - - - - - - - - | | | | | | 8 000 | 9 878 | 24 hours | | | | | | - - - - - - - - + - - - - - - - - - - + - - - - - - - - - - - | | | | | | 10 000 | 9 840 | 24 hours | | | | | | - - - - - - - - + - - - - - - - - - - + - - - - - - - - - - - | | | | | | 12 000 | 9 793 | 24 hours | | | | | | - - - - - - - - + - - - - - - - - - - + - - - - - - - - - - - | | | | | | 14 000 | 9 738 | 24 hours | | | | | | - - - - - - - - + - - - - - - - - - - + - - - - - - - - - - - | | | | | | 16 000 | 9 674 | 24 hours | | | | | | - - - - - - - - + - - - - - - - - - - + - - - - - - - - - - - | | | | | | 18 000 | 9 602 | 24 hours | | | | | | - - - - - - - - + - - - - - - - - - - + - - - - - - - - - - - | | | | | | 20 000 | 9 521 | 24 hours | | | | | | - - - - - - - - + - - - - - - - - - - + - - - - - - - - - - - | | | | | | 22 000 | 9 431 | 24 hours | | | | | | - - - - - - - - + - - - - - - - - - - + - - - - - - - - - - - | | | | | | 24 000 | 9 332 | 24 hours | | | | | | - - - - - - - - + - - - - - - - - - - + - - - - - - - - - - - | | | | | | 26 000 | 9 224 | 24 hours | | | | | | - - - - - - - - + - - - - - - - - - - + - - - - - - - - - - - | | | | | | 28 000 | 9 108 | 24 hours | | | | | | - - - - - - - - + - - - - - - - - - - + - - - - - - - - - - - | | | | | | 30 000 | 8 982 | 24 hours | | | | | | - - - - - - - - + - - - - - - - - - - + - - - - - - - - - - - | | | | | | 32 000 | 8 847 | 24 hours | | | | | | - - - - - - - - + - - - - - - - - - - + - - - - - - - - - - - | | | | | | 34 000 | 8 703 | 24 hours | | | | | | - - - - - - - - + - - - - - - - - - - + - - - - - - - - - - - | | | | | | 36 000 | 8 549 | 24 hours | | | | |'],\n",
       " ['ham', 'calpine daily gas nomination', ''],\n",
       " ['ham',\n",
       "  're : issue',\n",
       "  'fyi - see note below - already done stella - - - - - - - - - - - - - - - - - - - - - - forwarded by stella l morris / hou / ect on 12 / 14 / 99 10 18 am - - - - - - - - - - - - - - - - - - - - - - - - - - - from sherlyn schumack on 12 / 14 / 99 10 06 am to stella l morris / hou / ect @ ect cc howard b camp / hou / ect @ ect subject re issue stella this has already been taken care of you did this for me yesterday thanks howard b camp 12 / 14 / 99 09 10 am to stella l morris / hou / ect @ ect cc sherlyn schumack / hou / ect @ ect howard b camp / hou / ect @ ect stacey neuweiler / hou / ect @ ect daren j farmer / hou / ect @ ect subject issue stella can you work with stacey or daren to resolve hc - - - - - - - - - - - - - - - - - - - - - - forwarded by howard b camp / hou / ect on 12 / 14 / 99 09 08 am - - - - - - - - - - - - - - - - - - - - - - - - - - - from sherlyn schumack 12 / 13 / 99 01 14 pm to howard b camp / hou / ect @ ect cc subject issue i have to create accounting arrangement for purchase from unocal energy at']]"
      ]
     },
     "execution_count": 36,
     "metadata": {},
     "output_type": "execute_result"
    }
   ],
   "source": [
    "ham_split[0:4]"
   ]
  },
  {
   "cell_type": "code",
   "execution_count": 37,
   "metadata": {},
   "outputs": [],
   "source": [
    "test_spam = spam_list.copy()\n",
    "spam_split = []\n",
    "\n",
    "for email in test_spam:\n",
    "    email_split_list = email.split('\\n')\n",
    "    \n",
    "    subject = email_split_list[0]\n",
    "    subject_cleaned = subject.replace('Subject:', '').strip()\n",
    "    \n",
    "    body_list = email_split_list[1:-1]\n",
    "    #Remove special characters from the body\n",
    "    removetable = str.maketrans('', '', ',.:')\n",
    "    body_cleaned = [s.translate(removetable) for s in body_list]\n",
    "    body = ' '.join(body_cleaned)\n",
    "    body = re.sub(\"\\s+\", \" \", body.strip())\n",
    "\n",
    "    spam_split.append(['spam', subject_cleaned, body])"
   ]
  },
  {
   "cell_type": "code",
   "execution_count": 38,
   "metadata": {},
   "outputs": [
    {
     "data": {
      "text/plain": [
       "[['spam',\n",
       "  'dobmeos with hgh my energy level has gone up ! stukm',\n",
       "  'introducing doctor - formulated hgh human growth hormone - also called hgh is referred to in medical science as the master hormone it is very plentiful when we are young but near the age of twenty - one our bodies begin to produce less of it by the time we are forty nearly everyone is deficient in hgh and at eighty our production has normally diminished at least 90 - 95 % advantages of hgh - increased muscle strength - loss in body fat - increased bone density - lower blood pressure - quickens wound healing - reduces cellulite - improved vision - wrinkle disappearance - increased skin thickness texture - increased energy levels - improved sleep and emotional stability - improved memory and mental alertness - increased sexual potency - resistance to common illness - strengthened heart muscle - controlled cholesterol - controlled mood swings - new hair growth and color restore read more at this website unsubscribe'],\n",
       " ['spam',\n",
       "  'your prescription is ready . . oxwq s f e',\n",
       "  'low cost prescription medications soma ultram adipex vicodin many more prescribed online and shipped overnight to your door ! ! one of our us licensed physicians will write an fda approved prescription for you and ship your order overnight via a us licensed pharmacy direct to your doorstep fast and secure ! ! click here ! no thanks please take me off your list ogrg z lqlokeolnq'],\n",
       " ['spam', 'get that new car 8434', ''],\n",
       " ['spam',\n",
       "  'await your response',\n",
       "  'dear partner we are a team of government officials that belong to an eight - man committee in the presidential cabinet as well as the senate at the moment we will be requiring your assistance in a matter that involves investment of monies which we intend to transfer to your account upon clarification and a workable agreement reached in consummating the project with you based on a recommendation from an associate concerning your integrity loyalty and understanding we deemed it necessary to contact you accordingly all arrangements in relation to this investment initiative as well as the initial capital for its take off has been tactically set aside to commence whatever business you deemed fit that will turn around profit favourably we request you immediately contact us if you will be favorably disposed to act as a partner in this venture and possibly will afford us the opportunity to discuss whatever proposal you may come up with also bear in mind that the initial capital that we shall send across will not exceed $ 13 731 000 00 usd ( thirteen million seven hundred and thirty one thousand united states dollars ) so whatever areas of investment your proposal shall cover please it should be within the set aside capital in this regard the proposal you may wish to discuss with us should be comprehensive enough for our better understanding ; with special emphasis on the following 1 the tax obligationin your country 2 the initial capital base required in your proposed investment area as well as ; 3 the legal technicalities in setting up a business in your country with foreigners as share - holders 4 the most convenient and secured mode of receiving the funds without our direct involvement 5 your ability to provide a beneficiary / partnership account with a minimal deposit where we shall transfer the funds into subsequently another area that we wish to explicitly throw more light on is the process we have conceived in transferring the funds into the account you shall be providing since we are the owners of the funds and the money will be leaving the apex bank of my country we shall purposefully fulfill the legal obligations precedent to transferring such huge amount of funds without arousing suspicion from any quarter as a drug or terrorist related funds ; and this will assist us in the long run to forestall any form of investigations remember that on no account must we be seen or perceived to be directly connected with the transfer of funds you will be the one to be doing all these and in the course of transfer if for any reason whatsoever you incurred some bills we shall adequately retire same upon the successful confirmation of the funds in your account the commencement of this project is based on your ability to convince us of the need to invest in whatever business you have chosen and to trust your personality and status especially as it concerns the security of the funds in your custody i await your response sincerely john adams ( chairman senate committee on banks and currency ) call number 234 - 802 - 306 - 8507']]"
      ]
     },
     "execution_count": 38,
     "metadata": {},
     "output_type": "execute_result"
    }
   ],
   "source": [
    "spam_split[0:4]"
   ]
  },
  {
   "cell_type": "code",
   "execution_count": 39,
   "metadata": {},
   "outputs": [
    {
     "data": {
      "text/html": [
       "<div>\n",
       "<style scoped>\n",
       "    .dataframe tbody tr th:only-of-type {\n",
       "        vertical-align: middle;\n",
       "    }\n",
       "\n",
       "    .dataframe tbody tr th {\n",
       "        vertical-align: top;\n",
       "    }\n",
       "\n",
       "    .dataframe thead th {\n",
       "        text-align: right;\n",
       "    }\n",
       "</style>\n",
       "<table border=\"1\" class=\"dataframe\">\n",
       "  <thead>\n",
       "    <tr style=\"text-align: right;\">\n",
       "      <th></th>\n",
       "      <th>Status</th>\n",
       "      <th>Subject</th>\n",
       "      <th>Body</th>\n",
       "    </tr>\n",
       "  </thead>\n",
       "  <tbody>\n",
       "    <tr>\n",
       "      <th>0</th>\n",
       "      <td>ham</td>\n",
       "      <td>christmas tree farm pictures</td>\n",
       "      <td></td>\n",
       "    </tr>\n",
       "    <tr>\n",
       "      <th>1</th>\n",
       "      <td>ham</td>\n",
       "      <td>vastar resources , inc .</td>\n",
       "      <td>gary production from the high island larger bl...</td>\n",
       "    </tr>\n",
       "    <tr>\n",
       "      <th>2</th>\n",
       "      <td>ham</td>\n",
       "      <td>calpine daily gas nomination</td>\n",
       "      <td></td>\n",
       "    </tr>\n",
       "    <tr>\n",
       "      <th>3</th>\n",
       "      <td>ham</td>\n",
       "      <td>re : issue</td>\n",
       "      <td>fyi - see note below - already done stella - -...</td>\n",
       "    </tr>\n",
       "    <tr>\n",
       "      <th>4</th>\n",
       "      <td>ham</td>\n",
       "      <td>meter 7268 nov allocation</td>\n",
       "      <td>fyi - - - - - - - - - - - - - - - - - - - - - ...</td>\n",
       "    </tr>\n",
       "  </tbody>\n",
       "</table>\n",
       "</div>"
      ],
      "text/plain": [
       "  Status                       Subject  \\\n",
       "0    ham  christmas tree farm pictures   \n",
       "1    ham      vastar resources , inc .   \n",
       "2    ham  calpine daily gas nomination   \n",
       "3    ham                    re : issue   \n",
       "4    ham     meter 7268 nov allocation   \n",
       "\n",
       "                                                Body  \n",
       "0                                                     \n",
       "1  gary production from the high island larger bl...  \n",
       "2                                                     \n",
       "3  fyi - see note below - already done stella - -...  \n",
       "4  fyi - - - - - - - - - - - - - - - - - - - - - ...  "
      ]
     },
     "execution_count": 39,
     "metadata": {},
     "output_type": "execute_result"
    }
   ],
   "source": [
    "spam_n_ham = ham_split + spam_split\n",
    "\n",
    "from pandas import DataFrame\n",
    "\n",
    "columns = ['Status', 'Subject', 'Body']\n",
    "\n",
    "df_combined = DataFrame (spam_n_ham, columns = columns)\n",
    "df_combined.head()"
   ]
  },
  {
   "cell_type": "code",
   "execution_count": 40,
   "metadata": {},
   "outputs": [
    {
     "data": {
      "text/html": [
       "<div>\n",
       "<style scoped>\n",
       "    .dataframe tbody tr th:only-of-type {\n",
       "        vertical-align: middle;\n",
       "    }\n",
       "\n",
       "    .dataframe tbody tr th {\n",
       "        vertical-align: top;\n",
       "    }\n",
       "\n",
       "    .dataframe thead th {\n",
       "        text-align: right;\n",
       "    }\n",
       "</style>\n",
       "<table border=\"1\" class=\"dataframe\">\n",
       "  <thead>\n",
       "    <tr style=\"text-align: right;\">\n",
       "      <th></th>\n",
       "      <th>Status</th>\n",
       "      <th>Subject</th>\n",
       "      <th>Body</th>\n",
       "    </tr>\n",
       "  </thead>\n",
       "  <tbody>\n",
       "    <tr>\n",
       "      <th>11021</th>\n",
       "      <td>spam</td>\n",
       "      <td>tetm : 22 , interest : 3 . 55 %</td>\n",
       "      <td></td>\n",
       "    </tr>\n",
       "    <tr>\n",
       "      <th>11022</th>\n",
       "      <td>spam</td>\n",
       "      <td>localized software , all languages available .</td>\n",
       "      <td>hello we would like to offer localized softwar...</td>\n",
       "    </tr>\n",
       "    <tr>\n",
       "      <th>11023</th>\n",
       "      <td>spam</td>\n",
       "      <td>instant branded software download</td>\n",
       "      <td>software sales http / / francois jetlow com / ...</td>\n",
       "    </tr>\n",
       "    <tr>\n",
       "      <th>11024</th>\n",
       "      <td>spam</td>\n",
       "      <td>localized software , all languages available .</td>\n",
       "      <td>hello we would like to offer localized softwar...</td>\n",
       "    </tr>\n",
       "    <tr>\n",
       "      <th>11025</th>\n",
       "      <td>spam</td>\n",
       "      <td>microsoft autoroute 2005 dvd uk - $ 19 . 95</td>\n",
       "      <td>discounted software store http / / yielded jet...</td>\n",
       "    </tr>\n",
       "  </tbody>\n",
       "</table>\n",
       "</div>"
      ],
      "text/plain": [
       "      Status                                         Subject  \\\n",
       "11021   spam                 tetm : 22 , interest : 3 . 55 %   \n",
       "11022   spam  localized software , all languages available .   \n",
       "11023   spam               instant branded software download   \n",
       "11024   spam  localized software , all languages available .   \n",
       "11025   spam     microsoft autoroute 2005 dvd uk - $ 19 . 95   \n",
       "\n",
       "                                                    Body  \n",
       "11021                                                     \n",
       "11022  hello we would like to offer localized softwar...  \n",
       "11023  software sales http / / francois jetlow com / ...  \n",
       "11024  hello we would like to offer localized softwar...  \n",
       "11025  discounted software store http / / yielded jet...  "
      ]
     },
     "execution_count": 40,
     "metadata": {},
     "output_type": "execute_result"
    }
   ],
   "source": [
    "df_combined.tail()"
   ]
  },
  {
   "cell_type": "markdown",
   "metadata": {},
   "source": [
    "### 3. Build a Naive Bayes classifier to classify whether emails are spam or not. ( 3 pts )"
   ]
  },
  {
   "cell_type": "code",
   "execution_count": 41,
   "metadata": {},
   "outputs": [
    {
     "data": {
      "image/png": "[encoded data removed]",
      "text/plain": [
       "<Figure size 864x432 with 1 Axes>"
      ]
     },
     "metadata": {},
     "output_type": "display_data"
    }
   ],
   "source": [
    "plt.style.use('fivethirtyeight')\n",
    "plt.figure(figsize=(12,6))\n",
    "\n",
    "df_2 = df_combined.groupby('Status').count()\n",
    "df_2.reset_index(inplace=True)\n",
    "sns.barplot(x='Status', y='Body', data=df_2);"
   ]
  },
  {
   "cell_type": "markdown",
   "metadata": {},
   "source": [
    "### In building the classifier, only the body of the email will be used in this section."
   ]
  },
  {
   "cell_type": "code",
   "execution_count": 42,
   "metadata": {},
   "outputs": [],
   "source": [
    "train_x, test_x, train_y, test_y = train_test_split(df_combined[\"Body\"], df_combined[\"Status\"], test_size=0.3,random_state=109)"
   ]
  },
  {
   "cell_type": "code",
   "execution_count": 43,
   "metadata": {
    "tags": []
   },
   "outputs": [],
   "source": [
    "vectorizer = TfidfVectorizer(stop_words='english')\n",
    "tfidf_train_x = vectorizer.fit_transform(train_x)"
   ]
  },
  {
   "cell_type": "code",
   "execution_count": 44,
   "metadata": {},
   "outputs": [],
   "source": [
    "index_value={i[1]:i[0] for i in vectorizer.vocabulary_.items()}\n",
    "fully_indexed = []\n",
    "for row in tfidf_train_x:\n",
    "    fully_indexed.append({index_value[column]:value for (column,value) in zip(row.indices,row.data)})"
   ]
  },
  {
   "cell_type": "code",
   "execution_count": 45,
   "metadata": {},
   "outputs": [
    {
     "data": {
      "text/plain": [
       "{'list': 0.11961983543203795,\n",
       " 'mailing': 0.16262527882718228,\n",
       " 'sightings': 0.22778774166101434,\n",
       " 'spamassassin': 0.22428509399738555,\n",
       " 'xim': 0.26322003268520766,\n",
       " 'osdn': 0.2569458013017384,\n",
       " 'com': 0.08068318631413138,\n",
       " 'www': 0.11662551308295788,\n",
       " 'http': 0.10632682989456502,\n",
       " 'build': 0.17857820660034263,\n",
       " 'im': 0.18998119908296715,\n",
       " 'just': 0.10171360177530632,\n",
       " 'don': 0.1199394630989321,\n",
       " 'platform': 0.20518598873780014,\n",
       " 'communications': 0.1618930597553179,\n",
       " 'time': 0.08841785745680568,\n",
       " 'real': 0.14384629678840283,\n",
       " 'growing': 0.19776281003577692,\n",
       " 'fastest': 0.22319252610331722,\n",
       " 'world': 0.14342012418296898,\n",
       " 'jabber': 0.5264400653704153,\n",
       " 'sponsored': 0.19776281003577692,\n",
       " 'email': 0.10429783389215896,\n",
       " 'net': 0.13451377697448252,\n",
       " 'sf': 0.21466374067129018}"
      ]
     },
     "execution_count": 45,
     "metadata": {},
     "output_type": "execute_result"
    }
   ],
   "source": [
    "fully_indexed[0]"
   ]
  },
  {
   "cell_type": "code",
   "execution_count": 46,
   "metadata": {},
   "outputs": [
    {
     "data": {
      "text/plain": [
       "GaussianNB()"
      ]
     },
     "execution_count": 46,
     "metadata": {},
     "output_type": "execute_result"
    }
   ],
   "source": [
    "classifier = GaussianNB()\n",
    "classifier.fit(tfidf_train_x.toarray(), train_y)"
   ]
  },
  {
   "cell_type": "code",
   "execution_count": 47,
   "metadata": {},
   "outputs": [
    {
     "name": "stdout",
     "output_type": "stream",
     "text": [
      "(3308, 58612)\n",
      "Accuracy: 92.62 percent\n",
      "              precision    recall  f1-score   support\n",
      "\n",
      "         ham       0.94      0.98      0.96      2407\n",
      "        spam       0.95      0.82      0.88       901\n",
      "\n",
      "    accuracy                           0.94      3308\n",
      "   macro avg       0.94      0.90      0.92      3308\n",
      "weighted avg       0.94      0.94      0.94      3308\n",
      "\n"
     ]
    }
   ],
   "source": [
    "tfidf_test_x = vectorizer.transform(test_x)\n",
    "print(tfidf_test_x.shape)\n",
    "scores = cross_val_score(classifier, tfidf_test_x.toarray(), test_y, cv=5)\n",
    "acc = scores.mean()\n",
    "print(\"Accuracy: %0.2f percent\" % (acc *100))\n",
    "\n",
    "pred = classifier.predict(tfidf_test_x.toarray())\n",
    "print(metrics.classification_report(test_y, pred))"
   ]
  },
  {
   "cell_type": "code",
   "execution_count": 48,
   "metadata": {},
   "outputs": [
    {
     "name": "stdout",
     "output_type": "stream",
     "text": [
      "We have a meeting for tomorrow  ==  ham\n",
      "You won the lottery, claim it now!!!  ==  spam\n",
      "Your bank account has been locked. Please login at http://goo.gl/23  ==  spam\n",
      "It's your last day to claim this FREE ticket to the Bahamas!  ==  spam\n",
      "I love you  ==  ham\n",
      "BDO E-receipt [DO NOT REPLY]  ==  spam\n",
      "You have received 2 Bitcoins! Please confirm transaction.  ==  ham\n"
     ]
    }
   ],
   "source": [
    "mess = ['We have a meeting for tomorrow', \"You won the lottery, claim it now!!!\", \n",
    "        \"Your bank account has been locked. Please login at http://goo.gl/23\", \n",
    "        \"It's your last day to claim this FREE ticket to the Bahamas!\",\n",
    "       \"I love you\", \"BDO E-receipt [DO NOT REPLY]\", \"You have received 2 Bitcoins! Please confirm transaction.\"]\n",
    "output = classifier.predict(vectorizer.transform(mess).toarray())\n",
    "\n",
    "for i ,m in enumerate(mess):\n",
    "    print(m, ' == ', output[i])"
   ]
  },
  {
   "cell_type": "markdown",
   "metadata": {},
   "source": [
    "It is observed that although the model may has attained an accuracy score of more than 90%, when tested using some sample messags, it\n",
    "predicted wrongly. This may be the case if the model is overfitted or the data may be imbalanced."
   ]
  },
  {
   "cell_type": "markdown",
   "metadata": {},
   "source": [
    "### 4. What is the longest ham email? ( 1 pt )"
   ]
  },
  {
   "cell_type": "code",
   "execution_count": 49,
   "metadata": {},
   "outputs": [
    {
     "data": {
      "text/html": [
       "<div>\n",
       "<style scoped>\n",
       "    .dataframe tbody tr th:only-of-type {\n",
       "        vertical-align: middle;\n",
       "    }\n",
       "\n",
       "    .dataframe tbody tr th {\n",
       "        vertical-align: top;\n",
       "    }\n",
       "\n",
       "    .dataframe thead th {\n",
       "        text-align: right;\n",
       "    }\n",
       "</style>\n",
       "<table border=\"1\" class=\"dataframe\">\n",
       "  <thead>\n",
       "    <tr style=\"text-align: right;\">\n",
       "      <th></th>\n",
       "      <th>Status</th>\n",
       "      <th>Subject</th>\n",
       "      <th>Body</th>\n",
       "    </tr>\n",
       "  </thead>\n",
       "  <tbody>\n",
       "    <tr>\n",
       "      <th>0</th>\n",
       "      <td>ham</td>\n",
       "      <td>christmas tree farm pictures</td>\n",
       "      <td></td>\n",
       "    </tr>\n",
       "    <tr>\n",
       "      <th>1</th>\n",
       "      <td>ham</td>\n",
       "      <td>vastar resources , inc .</td>\n",
       "      <td>gary production from the high island larger bl...</td>\n",
       "    </tr>\n",
       "    <tr>\n",
       "      <th>2</th>\n",
       "      <td>ham</td>\n",
       "      <td>calpine daily gas nomination</td>\n",
       "      <td></td>\n",
       "    </tr>\n",
       "    <tr>\n",
       "      <th>3</th>\n",
       "      <td>ham</td>\n",
       "      <td>re : issue</td>\n",
       "      <td>fyi - see note below - already done stella - -...</td>\n",
       "    </tr>\n",
       "    <tr>\n",
       "      <th>4</th>\n",
       "      <td>ham</td>\n",
       "      <td>meter 7268 nov allocation</td>\n",
       "      <td>fyi - - - - - - - - - - - - - - - - - - - - - ...</td>\n",
       "    </tr>\n",
       "  </tbody>\n",
       "</table>\n",
       "</div>"
      ],
      "text/plain": [
       "  Status                       Subject  \\\n",
       "0    ham  christmas tree farm pictures   \n",
       "1    ham      vastar resources , inc .   \n",
       "2    ham  calpine daily gas nomination   \n",
       "3    ham                    re : issue   \n",
       "4    ham     meter 7268 nov allocation   \n",
       "\n",
       "                                                Body  \n",
       "0                                                     \n",
       "1  gary production from the high island larger bl...  \n",
       "2                                                     \n",
       "3  fyi - see note below - already done stella - -...  \n",
       "4  fyi - - - - - - - - - - - - - - - - - - - - - ...  "
      ]
     },
     "execution_count": 49,
     "metadata": {},
     "output_type": "execute_result"
    }
   ],
   "source": [
    "df_ham = df_combined[df_combined[\"Status\"] == 'ham']\n",
    "df_ham.head()"
   ]
  },
  {
   "cell_type": "code",
   "execution_count": 50,
   "metadata": {},
   "outputs": [
    {
     "data": {
      "text/html": [
       "<div>\n",
       "<style scoped>\n",
       "    .dataframe tbody tr th:only-of-type {\n",
       "        vertical-align: middle;\n",
       "    }\n",
       "\n",
       "    .dataframe tbody tr th {\n",
       "        vertical-align: top;\n",
       "    }\n",
       "\n",
       "    .dataframe thead th {\n",
       "        text-align: right;\n",
       "    }\n",
       "</style>\n",
       "<table border=\"1\" class=\"dataframe\">\n",
       "  <thead>\n",
       "    <tr style=\"text-align: right;\">\n",
       "      <th></th>\n",
       "      <th>Status</th>\n",
       "      <th>Subject</th>\n",
       "      <th>Body</th>\n",
       "      <th>Body Length</th>\n",
       "    </tr>\n",
       "  </thead>\n",
       "  <tbody>\n",
       "    <tr>\n",
       "      <th>0</th>\n",
       "      <td>ham</td>\n",
       "      <td>christmas tree farm pictures</td>\n",
       "      <td></td>\n",
       "      <td>0</td>\n",
       "    </tr>\n",
       "    <tr>\n",
       "      <th>1</th>\n",
       "      <td>ham</td>\n",
       "      <td>vastar resources , inc .</td>\n",
       "      <td>gary production from the high island larger bl...</td>\n",
       "      <td>4034</td>\n",
       "    </tr>\n",
       "    <tr>\n",
       "      <th>2</th>\n",
       "      <td>ham</td>\n",
       "      <td>calpine daily gas nomination</td>\n",
       "      <td></td>\n",
       "      <td>0</td>\n",
       "    </tr>\n",
       "    <tr>\n",
       "      <th>3</th>\n",
       "      <td>ham</td>\n",
       "      <td>re : issue</td>\n",
       "      <td>fyi - see note below - already done stella - -...</td>\n",
       "      <td>1035</td>\n",
       "    </tr>\n",
       "    <tr>\n",
       "      <th>4</th>\n",
       "      <td>ham</td>\n",
       "      <td>meter 7268 nov allocation</td>\n",
       "      <td>fyi - - - - - - - - - - - - - - - - - - - - - ...</td>\n",
       "      <td>1073</td>\n",
       "    </tr>\n",
       "  </tbody>\n",
       "</table>\n",
       "</div>"
      ],
      "text/plain": [
       "  Status                       Subject  \\\n",
       "0    ham  christmas tree farm pictures   \n",
       "1    ham      vastar resources , inc .   \n",
       "2    ham  calpine daily gas nomination   \n",
       "3    ham                    re : issue   \n",
       "4    ham     meter 7268 nov allocation   \n",
       "\n",
       "                                                Body  Body Length  \n",
       "0                                                               0  \n",
       "1  gary production from the high island larger bl...         4034  \n",
       "2                                                               0  \n",
       "3  fyi - see note below - already done stella - -...         1035  \n",
       "4  fyi - - - - - - - - - - - - - - - - - - - - - ...         1073  "
      ]
     },
     "execution_count": 50,
     "metadata": {},
     "output_type": "execute_result"
    }
   ],
   "source": [
    "df_ham[\"Body Length\"] = df_ham[\"Body\"].str.len()\n",
    "df_ham.head()"
   ]
  },
  {
   "cell_type": "code",
   "execution_count": 51,
   "metadata": {},
   "outputs": [
    {
     "data": {
      "text/plain": [
       "Status                                                       ham\n",
       "Subject        from the enron india newsdesk - april 27 th ne...\n",
       "Body           fyi news articles from indian press - - - - - ...\n",
       "Body Length                                                41752\n",
       "Name: 7772, dtype: object"
      ]
     },
     "execution_count": 51,
     "metadata": {},
     "output_type": "execute_result"
    }
   ],
   "source": [
    "df_ham.iloc[df_ham[\"Body Length\"].idxmax()]"
   ]
  },
  {
   "cell_type": "markdown",
   "metadata": {},
   "source": [
    "### 5. What is the accuracy of your model?( 1 pt )"
   ]
  },
  {
   "cell_type": "code",
   "execution_count": 52,
   "metadata": {},
   "outputs": [
    {
     "name": "stdout",
     "output_type": "stream",
     "text": [
      "From the previous number, the attained accuracy score after cross validation of the classifier was 92.62373680818682 percent.\n"
     ]
    }
   ],
   "source": [
    "print(f'From the previous number, the attained accuracy score after cross validation of the classifier was {acc*100} percent.')"
   ]
  },
  {
   "cell_type": "markdown",
   "metadata": {},
   "source": [
    "### 6. Include the Subject in the analysis of the emails, does the accuracy/performance of the model increase? (7 pts)"
   ]
  },
  {
   "cell_type": "code",
   "execution_count": 53,
   "metadata": {},
   "outputs": [
    {
     "data": {
      "text/html": [
       "<div>\n",
       "<style scoped>\n",
       "    .dataframe tbody tr th:only-of-type {\n",
       "        vertical-align: middle;\n",
       "    }\n",
       "\n",
       "    .dataframe tbody tr th {\n",
       "        vertical-align: top;\n",
       "    }\n",
       "\n",
       "    .dataframe thead th {\n",
       "        text-align: right;\n",
       "    }\n",
       "</style>\n",
       "<table border=\"1\" class=\"dataframe\">\n",
       "  <thead>\n",
       "    <tr style=\"text-align: right;\">\n",
       "      <th></th>\n",
       "      <th>Status</th>\n",
       "      <th>Subject</th>\n",
       "      <th>Body</th>\n",
       "    </tr>\n",
       "  </thead>\n",
       "  <tbody>\n",
       "    <tr>\n",
       "      <th>0</th>\n",
       "      <td>ham</td>\n",
       "      <td>christmas tree farm pictures</td>\n",
       "      <td></td>\n",
       "    </tr>\n",
       "    <tr>\n",
       "      <th>1</th>\n",
       "      <td>ham</td>\n",
       "      <td>vastar resources , inc .</td>\n",
       "      <td>gary production from the high island larger bl...</td>\n",
       "    </tr>\n",
       "    <tr>\n",
       "      <th>2</th>\n",
       "      <td>ham</td>\n",
       "      <td>calpine daily gas nomination</td>\n",
       "      <td></td>\n",
       "    </tr>\n",
       "    <tr>\n",
       "      <th>3</th>\n",
       "      <td>ham</td>\n",
       "      <td>re : issue</td>\n",
       "      <td>fyi - see note below - already done stella - -...</td>\n",
       "    </tr>\n",
       "    <tr>\n",
       "      <th>4</th>\n",
       "      <td>ham</td>\n",
       "      <td>meter 7268 nov allocation</td>\n",
       "      <td>fyi - - - - - - - - - - - - - - - - - - - - - ...</td>\n",
       "    </tr>\n",
       "  </tbody>\n",
       "</table>\n",
       "</div>"
      ],
      "text/plain": [
       "  Status                       Subject  \\\n",
       "0    ham  christmas tree farm pictures   \n",
       "1    ham      vastar resources , inc .   \n",
       "2    ham  calpine daily gas nomination   \n",
       "3    ham                    re : issue   \n",
       "4    ham     meter 7268 nov allocation   \n",
       "\n",
       "                                                Body  \n",
       "0                                                     \n",
       "1  gary production from the high island larger bl...  \n",
       "2                                                     \n",
       "3  fyi - see note below - already done stella - -...  \n",
       "4  fyi - - - - - - - - - - - - - - - - - - - - - ...  "
      ]
     },
     "execution_count": 53,
     "metadata": {},
     "output_type": "execute_result"
    }
   ],
   "source": [
    "df_combined.head()"
   ]
  },
  {
   "cell_type": "code",
   "execution_count": 54,
   "metadata": {},
   "outputs": [
    {
     "data": {
      "text/html": [
       "<div>\n",
       "<style scoped>\n",
       "    .dataframe tbody tr th:only-of-type {\n",
       "        vertical-align: middle;\n",
       "    }\n",
       "\n",
       "    .dataframe tbody tr th {\n",
       "        vertical-align: top;\n",
       "    }\n",
       "\n",
       "    .dataframe thead th {\n",
       "        text-align: right;\n",
       "    }\n",
       "</style>\n",
       "<table border=\"1\" class=\"dataframe\">\n",
       "  <thead>\n",
       "    <tr style=\"text-align: right;\">\n",
       "      <th></th>\n",
       "      <th>Status</th>\n",
       "      <th>Subject</th>\n",
       "      <th>Body</th>\n",
       "      <th>Subject-Body</th>\n",
       "    </tr>\n",
       "  </thead>\n",
       "  <tbody>\n",
       "    <tr>\n",
       "      <th>0</th>\n",
       "      <td>ham</td>\n",
       "      <td>christmas tree farm pictures</td>\n",
       "      <td></td>\n",
       "      <td>christmas tree farm pictures</td>\n",
       "    </tr>\n",
       "    <tr>\n",
       "      <th>1</th>\n",
       "      <td>ham</td>\n",
       "      <td>vastar resources , inc .</td>\n",
       "      <td>gary production from the high island larger bl...</td>\n",
       "      <td>vastar resources , inc . gary production from ...</td>\n",
       "    </tr>\n",
       "    <tr>\n",
       "      <th>2</th>\n",
       "      <td>ham</td>\n",
       "      <td>calpine daily gas nomination</td>\n",
       "      <td></td>\n",
       "      <td>calpine daily gas nomination</td>\n",
       "    </tr>\n",
       "    <tr>\n",
       "      <th>3</th>\n",
       "      <td>ham</td>\n",
       "      <td>re : issue</td>\n",
       "      <td>fyi - see note below - already done stella - -...</td>\n",
       "      <td>re : issue fyi - see note below - already done...</td>\n",
       "    </tr>\n",
       "    <tr>\n",
       "      <th>4</th>\n",
       "      <td>ham</td>\n",
       "      <td>meter 7268 nov allocation</td>\n",
       "      <td>fyi - - - - - - - - - - - - - - - - - - - - - ...</td>\n",
       "      <td>meter 7268 nov allocation fyi - - - - - - - - ...</td>\n",
       "    </tr>\n",
       "  </tbody>\n",
       "</table>\n",
       "</div>"
      ],
      "text/plain": [
       "  Status                       Subject  \\\n",
       "0    ham  christmas tree farm pictures   \n",
       "1    ham      vastar resources , inc .   \n",
       "2    ham  calpine daily gas nomination   \n",
       "3    ham                    re : issue   \n",
       "4    ham     meter 7268 nov allocation   \n",
       "\n",
       "                                                Body  \\\n",
       "0                                                      \n",
       "1  gary production from the high island larger bl...   \n",
       "2                                                      \n",
       "3  fyi - see note below - already done stella - -...   \n",
       "4  fyi - - - - - - - - - - - - - - - - - - - - - ...   \n",
       "\n",
       "                                        Subject-Body  \n",
       "0                      christmas tree farm pictures   \n",
       "1  vastar resources , inc . gary production from ...  \n",
       "2                      calpine daily gas nomination   \n",
       "3  re : issue fyi - see note below - already done...  \n",
       "4  meter 7268 nov allocation fyi - - - - - - - - ...  "
      ]
     },
     "execution_count": 54,
     "metadata": {},
     "output_type": "execute_result"
    }
   ],
   "source": [
    "df_combined[\"Subject-Body\"] = df_combined[\"Subject\"] + ' ' + df_combined[\"Body\"]\n",
    "df_combined.head()"
   ]
  },
  {
   "cell_type": "code",
   "execution_count": 55,
   "metadata": {},
   "outputs": [],
   "source": [
    "train_x, test_x, train_y, test_y = train_test_split(df_combined[\"Subject-Body\"], df_combined[\"Status\"], test_size=0.3,random_state=109)"
   ]
  },
  {
   "cell_type": "code",
   "execution_count": 56,
   "metadata": {},
   "outputs": [],
   "source": [
    "vectorizer = TfidfVectorizer(stop_words='english')\n",
    "tfidf_train_x = vectorizer.fit_transform(train_x)"
   ]
  },
  {
   "cell_type": "code",
   "execution_count": 57,
   "metadata": {},
   "outputs": [
    {
     "data": {
      "text/plain": [
       "GaussianNB()"
      ]
     },
     "execution_count": 57,
     "metadata": {},
     "output_type": "execute_result"
    }
   ],
   "source": [
    "classifier = GaussianNB()\n",
    "classifier.fit(tfidf_train_x.toarray(), train_y)"
   ]
  },
  {
   "cell_type": "code",
   "execution_count": 58,
   "metadata": {},
   "outputs": [
    {
     "name": "stdout",
     "output_type": "stream",
     "text": [
      "(3308, 59494)\n",
      "Accuracy: 94.56 percent\n",
      "              precision    recall  f1-score   support\n",
      "\n",
      "         ham       0.96      0.98      0.97      2407\n",
      "        spam       0.95      0.88      0.92       901\n",
      "\n",
      "    accuracy                           0.96      3308\n",
      "   macro avg       0.95      0.93      0.94      3308\n",
      "weighted avg       0.96      0.96      0.95      3308\n",
      "\n"
     ]
    }
   ],
   "source": [
    "tfidf_test_x = vectorizer.transform(test_x)\n",
    "print(tfidf_test_x.shape)\n",
    "scores = cross_val_score(classifier, tfidf_test_x.toarray(), test_y, cv=5)\n",
    "acc = scores.mean()\n",
    "print(\"Accuracy: %0.2f percent\" % (acc *100))\n",
    "\n",
    "pred = classifier.predict(tfidf_test_x.toarray())\n",
    "print(metrics.classification_report(test_y, pred))"
   ]
  },
  {
   "cell_type": "code",
   "execution_count": 59,
   "metadata": {},
   "outputs": [
    {
     "name": "stdout",
     "output_type": "stream",
     "text": [
      "We have a meeting for tomorrow  ==  ham\n",
      "You won the lottery, claim it now!!!  ==  spam\n",
      "Your bank account has been locked. Please login at http://goo.gl/23  ==  spam\n",
      "It's your last day to claim this FREE ticket to the Bahamas!  ==  spam\n",
      "I love you  ==  ham\n",
      "BDO E-receipt [DO NOT REPLY]  ==  spam\n",
      "You have received 2 Bitcoins! Please confirm transaction.  ==  ham\n"
     ]
    }
   ],
   "source": [
    "mess = ['We have a meeting for tomorrow', \"You won the lottery, claim it now!!!\", \n",
    "        \"Your bank account has been locked. Please login at http://goo.gl/23\", \n",
    "        \"It's your last day to claim this FREE ticket to the Bahamas!\",\n",
    "       \"I love you\", \"BDO E-receipt [DO NOT REPLY]\", \"You have received 2 Bitcoins! Please confirm transaction.\"]\n",
    "output = classifier.predict(vectorizer.transform(mess).toarray())\n",
    "\n",
    "for i ,m in enumerate(mess):\n",
    "    print(m, ' == ', output[i])"
   ]
  },
  {
   "cell_type": "markdown",
   "metadata": {},
   "source": [
    "Although the accuracy score for the model has slightly increased (~2% higher than the classifier not using the subject text),\n",
    "it has been observed that some emails are still tagged as ham even if they are spam emails. I believe this has to do with the\n",
    "imbalanced data set. Therefore, adding more spam emails as training data will aid in optimizing the model."
   ]
  },
  {
   "cell_type": "code",
   "execution_count": null,
   "metadata": {},
   "outputs": [],
   "source": []
  }
 ],
 "metadata": {
  "kernelspec": {
   "display_name": "Python 3",
   "language": "python",
   "name": "python3"
  },
  "language_info": {
   "codemirror_mode": {
    "name": "ipython",
    "version": 3
   },
   "file_extension": ".py",
   "mimetype": "text/x-python",
   "name": "python",
   "nbconvert_exporter": "python",
   "pygments_lexer": "ipython3",
   "version": "3.7.3"
  }
 },
 "nbformat": 4,
 "nbformat_minor": 4
}
